{
  "nbformat": 4,
  "nbformat_minor": 0,
  "metadata": {
    "anaconda-cloud": {},
    "kernelspec": {
      "display_name": "Python [default]",
      "language": "python",
      "name": "python3"
    },
    "language_info": {
      "codemirror_mode": {
        "name": "ipython",
        "version": 3
      },
      "file_extension": ".py",
      "mimetype": "text/x-python",
      "name": "python",
      "nbconvert_exporter": "python",
      "pygments_lexer": "ipython3",
      "version": "3.6.4"
    },
    "colab": {
      "name": "dog_app.ipynb",
      "provenance": []
    },
    "accelerator": "GPU",
    "widgets": {
      "application/vnd.jupyter.widget-state+json": {
        "1539dc0e089e44a59235ad82b38b3014": {
          "model_module": "@jupyter-widgets/controls",
          "model_name": "HBoxModel",
          "state": {
            "_view_name": "HBoxView",
            "_dom_classes": [],
            "_model_name": "HBoxModel",
            "_view_module": "@jupyter-widgets/controls",
            "_model_module_version": "1.5.0",
            "_view_count": null,
            "_view_module_version": "1.5.0",
            "box_style": "",
            "layout": "IPY_MODEL_41d08b8c221c49e2ade250c618bcaa8b",
            "_model_module": "@jupyter-widgets/controls",
            "children": [
              "IPY_MODEL_e204f9892e2649d6865531b7188eaed8",
              "IPY_MODEL_10db5d3dacb04ef3bc00e67d58f6342e"
            ]
          }
        },
        "41d08b8c221c49e2ade250c618bcaa8b": {
          "model_module": "@jupyter-widgets/base",
          "model_name": "LayoutModel",
          "state": {
            "_view_name": "LayoutView",
            "grid_template_rows": null,
            "right": null,
            "justify_content": null,
            "_view_module": "@jupyter-widgets/base",
            "overflow": null,
            "_model_module_version": "1.2.0",
            "_view_count": null,
            "flex_flow": null,
            "width": null,
            "min_width": null,
            "border": null,
            "align_items": null,
            "bottom": null,
            "_model_module": "@jupyter-widgets/base",
            "top": null,
            "grid_column": null,
            "overflow_y": null,
            "overflow_x": null,
            "grid_auto_flow": null,
            "grid_area": null,
            "grid_template_columns": null,
            "flex": null,
            "_model_name": "LayoutModel",
            "justify_items": null,
            "grid_row": null,
            "max_height": null,
            "align_content": null,
            "visibility": null,
            "align_self": null,
            "height": null,
            "min_height": null,
            "padding": null,
            "grid_auto_rows": null,
            "grid_gap": null,
            "max_width": null,
            "order": null,
            "_view_module_version": "1.2.0",
            "grid_template_areas": null,
            "object_position": null,
            "object_fit": null,
            "grid_auto_columns": null,
            "margin": null,
            "display": null,
            "left": null
          }
        },
        "e204f9892e2649d6865531b7188eaed8": {
          "model_module": "@jupyter-widgets/controls",
          "model_name": "FloatProgressModel",
          "state": {
            "_view_name": "ProgressView",
            "style": "IPY_MODEL_13fc1df84a5f42cd98ae4c81f16850e8",
            "_dom_classes": [],
            "description": "100%",
            "_model_name": "FloatProgressModel",
            "bar_style": "success",
            "max": 553433881,
            "_view_module": "@jupyter-widgets/controls",
            "_model_module_version": "1.5.0",
            "value": 553433881,
            "_view_count": null,
            "_view_module_version": "1.5.0",
            "orientation": "horizontal",
            "min": 0,
            "description_tooltip": null,
            "_model_module": "@jupyter-widgets/controls",
            "layout": "IPY_MODEL_dacb00a21313403bb0826f3c0a87c1f4"
          }
        },
        "10db5d3dacb04ef3bc00e67d58f6342e": {
          "model_module": "@jupyter-widgets/controls",
          "model_name": "HTMLModel",
          "state": {
            "_view_name": "HTMLView",
            "style": "IPY_MODEL_ec441449425b4714a2a4935b71211f3d",
            "_dom_classes": [],
            "description": "",
            "_model_name": "HTMLModel",
            "placeholder": "​",
            "_view_module": "@jupyter-widgets/controls",
            "_model_module_version": "1.5.0",
            "value": " 528M/528M [00:31&lt;00:00, 17.8MB/s]",
            "_view_count": null,
            "_view_module_version": "1.5.0",
            "description_tooltip": null,
            "_model_module": "@jupyter-widgets/controls",
            "layout": "IPY_MODEL_49dc3dad65a846fbbb3e4b087cc9e1f2"
          }
        },
        "13fc1df84a5f42cd98ae4c81f16850e8": {
          "model_module": "@jupyter-widgets/controls",
          "model_name": "ProgressStyleModel",
          "state": {
            "_view_name": "StyleView",
            "_model_name": "ProgressStyleModel",
            "description_width": "initial",
            "_view_module": "@jupyter-widgets/base",
            "_model_module_version": "1.5.0",
            "_view_count": null,
            "_view_module_version": "1.2.0",
            "bar_color": null,
            "_model_module": "@jupyter-widgets/controls"
          }
        },
        "dacb00a21313403bb0826f3c0a87c1f4": {
          "model_module": "@jupyter-widgets/base",
          "model_name": "LayoutModel",
          "state": {
            "_view_name": "LayoutView",
            "grid_template_rows": null,
            "right": null,
            "justify_content": null,
            "_view_module": "@jupyter-widgets/base",
            "overflow": null,
            "_model_module_version": "1.2.0",
            "_view_count": null,
            "flex_flow": null,
            "width": null,
            "min_width": null,
            "border": null,
            "align_items": null,
            "bottom": null,
            "_model_module": "@jupyter-widgets/base",
            "top": null,
            "grid_column": null,
            "overflow_y": null,
            "overflow_x": null,
            "grid_auto_flow": null,
            "grid_area": null,
            "grid_template_columns": null,
            "flex": null,
            "_model_name": "LayoutModel",
            "justify_items": null,
            "grid_row": null,
            "max_height": null,
            "align_content": null,
            "visibility": null,
            "align_self": null,
            "height": null,
            "min_height": null,
            "padding": null,
            "grid_auto_rows": null,
            "grid_gap": null,
            "max_width": null,
            "order": null,
            "_view_module_version": "1.2.0",
            "grid_template_areas": null,
            "object_position": null,
            "object_fit": null,
            "grid_auto_columns": null,
            "margin": null,
            "display": null,
            "left": null
          }
        },
        "ec441449425b4714a2a4935b71211f3d": {
          "model_module": "@jupyter-widgets/controls",
          "model_name": "DescriptionStyleModel",
          "state": {
            "_view_name": "StyleView",
            "_model_name": "DescriptionStyleModel",
            "description_width": "",
            "_view_module": "@jupyter-widgets/base",
            "_model_module_version": "1.5.0",
            "_view_count": null,
            "_view_module_version": "1.2.0",
            "_model_module": "@jupyter-widgets/controls"
          }
        },
        "49dc3dad65a846fbbb3e4b087cc9e1f2": {
          "model_module": "@jupyter-widgets/base",
          "model_name": "LayoutModel",
          "state": {
            "_view_name": "LayoutView",
            "grid_template_rows": null,
            "right": null,
            "justify_content": null,
            "_view_module": "@jupyter-widgets/base",
            "overflow": null,
            "_model_module_version": "1.2.0",
            "_view_count": null,
            "flex_flow": null,
            "width": null,
            "min_width": null,
            "border": null,
            "align_items": null,
            "bottom": null,
            "_model_module": "@jupyter-widgets/base",
            "top": null,
            "grid_column": null,
            "overflow_y": null,
            "overflow_x": null,
            "grid_auto_flow": null,
            "grid_area": null,
            "grid_template_columns": null,
            "flex": null,
            "_model_name": "LayoutModel",
            "justify_items": null,
            "grid_row": null,
            "max_height": null,
            "align_content": null,
            "visibility": null,
            "align_self": null,
            "height": null,
            "min_height": null,
            "padding": null,
            "grid_auto_rows": null,
            "grid_gap": null,
            "max_width": null,
            "order": null,
            "_view_module_version": "1.2.0",
            "grid_template_areas": null,
            "object_position": null,
            "object_fit": null,
            "grid_auto_columns": null,
            "margin": null,
            "display": null,
            "left": null
          }
        },
        "0b0bf50394c7416c80bb0b8b0956c71a": {
          "model_module": "@jupyter-widgets/controls",
          "model_name": "HBoxModel",
          "state": {
            "_view_name": "HBoxView",
            "_dom_classes": [],
            "_model_name": "HBoxModel",
            "_view_module": "@jupyter-widgets/controls",
            "_model_module_version": "1.5.0",
            "_view_count": null,
            "_view_module_version": "1.5.0",
            "box_style": "",
            "layout": "IPY_MODEL_c5ee7d75e5fa4f75b5fb7f88c47b8ac3",
            "_model_module": "@jupyter-widgets/controls",
            "children": [
              "IPY_MODEL_04039899d3a449c090eaacf0ea62d45f",
              "IPY_MODEL_a3dd1009e72a4c7da69384c999c00ca5"
            ]
          }
        },
        "c5ee7d75e5fa4f75b5fb7f88c47b8ac3": {
          "model_module": "@jupyter-widgets/base",
          "model_name": "LayoutModel",
          "state": {
            "_view_name": "LayoutView",
            "grid_template_rows": null,
            "right": null,
            "justify_content": null,
            "_view_module": "@jupyter-widgets/base",
            "overflow": null,
            "_model_module_version": "1.2.0",
            "_view_count": null,
            "flex_flow": null,
            "width": null,
            "min_width": null,
            "border": null,
            "align_items": null,
            "bottom": null,
            "_model_module": "@jupyter-widgets/base",
            "top": null,
            "grid_column": null,
            "overflow_y": null,
            "overflow_x": null,
            "grid_auto_flow": null,
            "grid_area": null,
            "grid_template_columns": null,
            "flex": null,
            "_model_name": "LayoutModel",
            "justify_items": null,
            "grid_row": null,
            "max_height": null,
            "align_content": null,
            "visibility": null,
            "align_self": null,
            "height": null,
            "min_height": null,
            "padding": null,
            "grid_auto_rows": null,
            "grid_gap": null,
            "max_width": null,
            "order": null,
            "_view_module_version": "1.2.0",
            "grid_template_areas": null,
            "object_position": null,
            "object_fit": null,
            "grid_auto_columns": null,
            "margin": null,
            "display": null,
            "left": null
          }
        },
        "04039899d3a449c090eaacf0ea62d45f": {
          "model_module": "@jupyter-widgets/controls",
          "model_name": "FloatProgressModel",
          "state": {
            "_view_name": "ProgressView",
            "style": "IPY_MODEL_ab7142766b3e46488d6481ea30d1efff",
            "_dom_classes": [],
            "description": "100%",
            "_model_name": "FloatProgressModel",
            "bar_style": "success",
            "max": 115730790,
            "_view_module": "@jupyter-widgets/controls",
            "_model_module_version": "1.5.0",
            "value": 115730790,
            "_view_count": null,
            "_view_module_version": "1.5.0",
            "orientation": "horizontal",
            "min": 0,
            "description_tooltip": null,
            "_model_module": "@jupyter-widgets/controls",
            "layout": "IPY_MODEL_eb356fa15533442093a9fd87e874f55b"
          }
        },
        "a3dd1009e72a4c7da69384c999c00ca5": {
          "model_module": "@jupyter-widgets/controls",
          "model_name": "HTMLModel",
          "state": {
            "_view_name": "HTMLView",
            "style": "IPY_MODEL_6f4822994b544a00a4464ba52c0a6c98",
            "_dom_classes": [],
            "description": "",
            "_model_name": "HTMLModel",
            "placeholder": "​",
            "_view_module": "@jupyter-widgets/controls",
            "_model_module_version": "1.5.0",
            "value": " 110M/110M [00:05&lt;00:00, 21.2MB/s]",
            "_view_count": null,
            "_view_module_version": "1.5.0",
            "description_tooltip": null,
            "_model_module": "@jupyter-widgets/controls",
            "layout": "IPY_MODEL_43e20b47e88c4822937ca102dc3601e9"
          }
        },
        "ab7142766b3e46488d6481ea30d1efff": {
          "model_module": "@jupyter-widgets/controls",
          "model_name": "ProgressStyleModel",
          "state": {
            "_view_name": "StyleView",
            "_model_name": "ProgressStyleModel",
            "description_width": "initial",
            "_view_module": "@jupyter-widgets/base",
            "_model_module_version": "1.5.0",
            "_view_count": null,
            "_view_module_version": "1.2.0",
            "bar_color": null,
            "_model_module": "@jupyter-widgets/controls"
          }
        },
        "eb356fa15533442093a9fd87e874f55b": {
          "model_module": "@jupyter-widgets/base",
          "model_name": "LayoutModel",
          "state": {
            "_view_name": "LayoutView",
            "grid_template_rows": null,
            "right": null,
            "justify_content": null,
            "_view_module": "@jupyter-widgets/base",
            "overflow": null,
            "_model_module_version": "1.2.0",
            "_view_count": null,
            "flex_flow": null,
            "width": null,
            "min_width": null,
            "border": null,
            "align_items": null,
            "bottom": null,
            "_model_module": "@jupyter-widgets/base",
            "top": null,
            "grid_column": null,
            "overflow_y": null,
            "overflow_x": null,
            "grid_auto_flow": null,
            "grid_area": null,
            "grid_template_columns": null,
            "flex": null,
            "_model_name": "LayoutModel",
            "justify_items": null,
            "grid_row": null,
            "max_height": null,
            "align_content": null,
            "visibility": null,
            "align_self": null,
            "height": null,
            "min_height": null,
            "padding": null,
            "grid_auto_rows": null,
            "grid_gap": null,
            "max_width": null,
            "order": null,
            "_view_module_version": "1.2.0",
            "grid_template_areas": null,
            "object_position": null,
            "object_fit": null,
            "grid_auto_columns": null,
            "margin": null,
            "display": null,
            "left": null
          }
        },
        "6f4822994b544a00a4464ba52c0a6c98": {
          "model_module": "@jupyter-widgets/controls",
          "model_name": "DescriptionStyleModel",
          "state": {
            "_view_name": "StyleView",
            "_model_name": "DescriptionStyleModel",
            "description_width": "",
            "_view_module": "@jupyter-widgets/base",
            "_model_module_version": "1.5.0",
            "_view_count": null,
            "_view_module_version": "1.2.0",
            "_model_module": "@jupyter-widgets/controls"
          }
        },
        "43e20b47e88c4822937ca102dc3601e9": {
          "model_module": "@jupyter-widgets/base",
          "model_name": "LayoutModel",
          "state": {
            "_view_name": "LayoutView",
            "grid_template_rows": null,
            "right": null,
            "justify_content": null,
            "_view_module": "@jupyter-widgets/base",
            "overflow": null,
            "_model_module_version": "1.2.0",
            "_view_count": null,
            "flex_flow": null,
            "width": null,
            "min_width": null,
            "border": null,
            "align_items": null,
            "bottom": null,
            "_model_module": "@jupyter-widgets/base",
            "top": null,
            "grid_column": null,
            "overflow_y": null,
            "overflow_x": null,
            "grid_auto_flow": null,
            "grid_area": null,
            "grid_template_columns": null,
            "flex": null,
            "_model_name": "LayoutModel",
            "justify_items": null,
            "grid_row": null,
            "max_height": null,
            "align_content": null,
            "visibility": null,
            "align_self": null,
            "height": null,
            "min_height": null,
            "padding": null,
            "grid_auto_rows": null,
            "grid_gap": null,
            "max_width": null,
            "order": null,
            "_view_module_version": "1.2.0",
            "grid_template_areas": null,
            "object_position": null,
            "object_fit": null,
            "grid_auto_columns": null,
            "margin": null,
            "display": null,
            "left": null
          }
        }
      }
    }
  },
  "cells": [
    {
      "cell_type": "markdown",
      "metadata": {
        "id": "J_4Sxv7VmKF7"
      },
      "source": [
        "# Convolutional Neural Networks\n",
        "\n",
        "## Project: Write an Algorithm for a Dog Identification App \n",
        "\n",
        "---\n",
        "\n",
        "In this notebook, some template code has already been provided for you, and you will need to implement additional functionality to successfully complete this project. You will not need to modify the included code beyond what is requested. Sections that begin with **'(IMPLEMENTATION)'** in the header indicate that the following block of code will require additional functionality which you must provide. Instructions will be provided for each section, and the specifics of the implementation are marked in the code block with a 'TODO' statement. Please be sure to read the instructions carefully! \n",
        "\n",
        "> **Note**: Once you have completed all of the code implementations, you need to finalize your work by exporting the Jupyter Notebook as an HTML document. Before exporting the notebook to html, all of the code cells need to have been run so that reviewers can see the final implementation and output. You can then export the notebook by using the menu above and navigating to **File -> Download as -> HTML (.html)**. Include the finished document along with this notebook as your submission.\n",
        "\n",
        "In addition to implementing code, there will be questions that you must answer which relate to the project and your implementation. Each section where you will answer a question is preceded by a **'Question X'** header. Carefully read each question and provide thorough answers in the following text boxes that begin with **'Answer:'**. Your project submission will be evaluated based on your answers to each of the questions and the implementation you provide.\n",
        "\n",
        ">**Note:** Code and Markdown cells can be executed using the **Shift + Enter** keyboard shortcut.  Markdown cells can be edited by double-clicking the cell to enter edit mode.\n",
        "\n",
        "The rubric contains _optional_ \"Stand Out Suggestions\" for enhancing the project beyond the minimum requirements. If you decide to pursue the \"Stand Out Suggestions\", you should include the code in this Jupyter notebook.\n",
        "\n",
        "\n",
        "\n",
        "---\n",
        "### Why We're Here \n",
        "\n",
        "In this notebook, you will make the first steps towards developing an algorithm that could be used as part of a mobile or web app.  At the end of this project, your code will accept any user-supplied image as input.  If a dog is detected in the image, it will provide an estimate of the dog's breed.  If a human is detected, it will provide an estimate of the dog breed that is most resembling.  The image below displays potential sample output of your finished project (... but we expect that each student's algorithm will behave differently!). \n",
        "\n",
        "![Sample Dog Output](images/sample_dog_output.png)\n",
        "\n",
        "In this real-world setting, you will need to piece together a series of models to perform different tasks; for instance, the algorithm that detects humans in an image will be different from the CNN that infers dog breed.  There are many points of possible failure, and no perfect algorithm exists.  Your imperfect solution will nonetheless create a fun user experience!\n",
        "\n",
        "### The Road Ahead\n",
        "\n",
        "We break the notebook into separate steps.  Feel free to use the links below to navigate the notebook.\n",
        "\n",
        "* [Step 0](#step0): Import Datasets\n",
        "* [Step 1](#step1): Detect Humans\n",
        "* [Step 2](#step2): Detect Dogs\n",
        "* [Step 3](#step3): Create a CNN to Classify Dog Breeds (from Scratch)\n",
        "* [Step 4](#step4): Create a CNN to Classify Dog Breeds (using Transfer Learning)\n",
        "* [Step 5](#step5): Write your Algorithm\n",
        "* [Step 6](#step6): Test Your Algorithm\n",
        "\n",
        "---\n",
        "<a id='step0'></a>\n",
        "## Step 0: Import Datasets\n",
        "\n",
        "Make sure that you've downloaded the required human and dog datasets:\n",
        "* Download the [dog dataset](https://s3-us-west-1.amazonaws.com/udacity-aind/dog-project/dogImages.zip).  Unzip the folder and place it in this project's home directory, at the location `/dogImages`. \n",
        "\n",
        "* Download the [human dataset](https://s3-us-west-1.amazonaws.com/udacity-aind/dog-project/lfw.zip).  Unzip the folder and place it in the home directory, at location `/lfw`.  \n",
        "\n",
        "*Note: If you are using a Windows machine, you are encouraged to use [7zip](http://www.7-zip.org/) to extract the folder.*\n",
        "\n",
        "In the code cell below, we save the file paths for both the human (LFW) dataset and dog dataset in the numpy arrays `human_files` and `dog_files`."
      ]
    },
    {
      "cell_type": "code",
      "metadata": {
        "id": "ns0T-eHkxk2O"
      },
      "source": [
        "# download the required data files\n",
        "\n",
        "!wget -cq https://s3-us-west-1.amazonaws.com/udacity-aind/dog-project/dogImages.zip\n",
        "!wget -cq https://s3-us-west-1.amazonaws.com/udacity-aind/dog-project/lfw.zip"
      ],
      "execution_count": 1,
      "outputs": []
    },
    {
      "cell_type": "code",
      "metadata": {
        "id": "cAcvG2wem0Mk",
        "outputId": "2aa3a3ee-4839-4869-aa58-76c2e50b2c55",
        "colab": {
          "base_uri": "https://localhost:8080/",
          "height": 51
        }
      },
      "source": [
        "# unzip the data files\n",
        "\n",
        "!rm -r dogImages || true\n",
        "!unzip -qq dogImages.zip\n",
        "\n",
        "!rm -r lfw || true\n",
        "!unzip -qq lfw.zip\n",
        "\n",
        "!rm -r __MACOSX || true"
      ],
      "execution_count": 2,
      "outputs": [
        {
          "output_type": "stream",
          "text": [
            "rm: cannot remove 'dogImages': No such file or directory\n",
            "rm: cannot remove 'lfw': No such file or directory\n"
          ],
          "name": "stdout"
        }
      ]
    },
    {
      "cell_type": "code",
      "metadata": {
        "id": "vCNbec9Fm8EY"
      },
      "source": [
        "# all imports\n",
        "\n",
        "import numpy as np\n",
        "from glob import glob\n",
        "import cv2                \n",
        "import matplotlib.pyplot as plt \n",
        "from tqdm import tqdm\n",
        "from PIL import Image\n",
        "from PIL import ImageFile\n",
        "import os\n",
        "from collections import OrderedDict\n",
        "import time\n",
        "import datetime\n",
        "\n",
        "import torch\n",
        "import torch.nn as nn\n",
        "import torch.nn.functional as F\n",
        "from torch.optim import lr_scheduler\n",
        "import torch.optim as optim\n",
        "\n",
        "import torchvision.transforms as transforms\n",
        "import torchvision.models as models\n",
        "from torchvision import datasets\n",
        "\n",
        "%matplotlib inline       "
      ],
      "execution_count": 3,
      "outputs": []
    },
    {
      "cell_type": "code",
      "metadata": {
        "id": "lUQbIehomKF_",
        "outputId": "d32fab87-c011-44bf-c229-257a87016c1d",
        "colab": {
          "base_uri": "https://localhost:8080/",
          "height": 51
        }
      },
      "source": [
        "# load filenames for human and dog images\n",
        "human_files = np.array(glob(\"lfw/*/*\"))\n",
        "dog_files = np.array(glob(\"dogImages/*/*/*\"))\n",
        "\n",
        "# print number of images in each dataset\n",
        "print('There are %d total human images.' % len(human_files))\n",
        "print('There are %d total dog images.' % len(dog_files))"
      ],
      "execution_count": 4,
      "outputs": [
        {
          "output_type": "stream",
          "text": [
            "There are 13233 total human images.\n",
            "There are 8351 total dog images.\n"
          ],
          "name": "stdout"
        }
      ]
    },
    {
      "cell_type": "markdown",
      "metadata": {
        "id": "FUmqaRDLmKGT"
      },
      "source": [
        "<a id='step1'></a>\n",
        "## Step 1: Detect Humans\n",
        "\n",
        "In this section, we use OpenCV's implementation of [Haar feature-based cascade classifiers](http://docs.opencv.org/trunk/d7/d8b/tutorial_py_face_detection.html) to detect human faces in images.  \n",
        "\n",
        "OpenCV provides many pre-trained face detectors, stored as XML files on [github](https://github.com/opencv/opencv/tree/master/data/haarcascades).  We have downloaded one of these detectors and stored it in the `haarcascades` directory.  In the next code cell, we demonstrate how to use this detector to find human faces in a sample image."
      ]
    },
    {
      "cell_type": "code",
      "metadata": {
        "id": "3TQZl6TrmKGW",
        "outputId": "99451c2f-614c-477f-ad81-6b1538d4e64a",
        "colab": {
          "base_uri": "https://localhost:8080/",
          "height": 286
        }
      },
      "source": [
        "# extract pre-trained face detector\n",
        "face_cascade = cv2.CascadeClassifier('haarcascades/haarcascade_frontalface_alt.xml')\n",
        "\n",
        "# load color (BGR) image\n",
        "img = cv2.imread(human_files[0])\n",
        "# convert BGR image to grayscale\n",
        "gray = cv2.cvtColor(img, cv2.COLOR_BGR2GRAY)\n",
        "\n",
        "# find faces in image\n",
        "faces = face_cascade.detectMultiScale(gray)\n",
        "\n",
        "# print number of faces detected in the image\n",
        "print('Number of faces detected:', len(faces))\n",
        "\n",
        "# get bounding box for each detected face\n",
        "for (x,y,w,h) in faces:\n",
        "    # add bounding box to color image\n",
        "    cv2.rectangle(img,(x,y),(x+w,y+h),(255,0,0),2)\n",
        "    \n",
        "# convert BGR image to RGB for plotting\n",
        "cv_rgb = cv2.cvtColor(img, cv2.COLOR_BGR2RGB)\n",
        "\n",
        "# display the image, along with bounding box\n",
        "plt.imshow(cv_rgb)\n",
        "plt.show()"
      ],
      "execution_count": 6,
      "outputs": [
        {
          "output_type": "stream",
          "text": [
            "Number of faces detected: 1\n"
          ],
          "name": "stdout"
        },
        {
          "output_type": "display_data",
          "data": {
            "image/png": "[encoded data removed]",
            "text/plain": [
              "<Figure size 432x288 with 1 Axes>"
            ]
          },
          "metadata": {
            "tags": [],
            "needs_background": "light"
          }
        }
      ]
    },
    {
      "cell_type": "markdown",
      "metadata": {
        "id": "mIYWnJ06mKGi"
      },
      "source": [
        "Before using any of the face detectors, it is standard procedure to convert the images to grayscale.  The `detectMultiScale` function executes the classifier stored in `face_cascade` and takes the grayscale image as a parameter.  \n",
        "\n",
        "In the above code, `faces` is a numpy array of detected faces, where each row corresponds to a detected face.  Each detected face is a 1D array with four entries that specifies the bounding box of the detected face.  The first two entries in the array (extracted in the above code as `x` and `y`) specify the horizontal and vertical positions of the top left corner of the bounding box.  The last two entries in the array (extracted here as `w` and `h`) specify the width and height of the box.\n",
        "\n",
        "### Write a Human Face Detector\n",
        "\n",
        "We can use this procedure to write a function that returns `True` if a human face is detected in an image and `False` otherwise.  This function, aptly named `face_detector`, takes a string-valued file path to an image as input and appears in the code block below."
      ]
    },
    {
      "cell_type": "code",
      "metadata": {
        "id": "qARR6dKOmKGj"
      },
      "source": [
        "# returns \"True\" if face is detected in image stored at img_path\n",
        "def face_detector(img_path):\n",
        "    img = cv2.imread(img_path)\n",
        "    gray = cv2.cvtColor(img, cv2.COLOR_BGR2GRAY)\n",
        "    faces = face_cascade.detectMultiScale(gray)\n",
        "    return len(faces) > 0"
      ],
      "execution_count": 7,
      "outputs": []
    },
    {
      "cell_type": "markdown",
      "metadata": {
        "id": "mkBkIELJmKGt"
      },
      "source": [
        "### (IMPLEMENTATION) Assess the Human Face Detector\n",
        "\n",
        "__Question 1:__ Use the code cell below to test the performance of the `face_detector` function.  \n",
        "- What percentage of the first 100 images in `human_files` have a detected human face?  \n",
        "- What percentage of the first 100 images in `dog_files` have a detected human face? \n",
        "\n",
        "Ideally, we would like 100% of human images with a detected face and 0% of dog images with a detected face.  You will see that our algorithm falls short of this goal, but still gives acceptable performance.  We extract the file paths for the first 100 images from each of the datasets and store them in the numpy arrays `human_files_short` and `dog_files_short`."
      ]
    },
    {
      "cell_type": "markdown",
      "metadata": {
        "id": "xGIympjtmKGv"
      },
      "source": [
        "__Answer:__ \n",
        "Using haarcascades face detector:\n",
        "\n",
        "Detected human faces in the first 100 human images: 96%\n",
        "\n",
        "Detected faces in the first 100 dogs images: 16%"
      ]
    },
    {
      "cell_type": "code",
      "metadata": {
        "id": "tRmWQz2nmKGx",
        "outputId": "f3a0038a-e23e-4bff-916d-9980c95ab846",
        "colab": {
          "base_uri": "https://localhost:8080/",
          "height": 102
        }
      },
      "source": [
        "human_files_short = human_files[:100]\n",
        "dog_files_short = dog_files[:100]\n",
        "\n",
        "count = []\n",
        "temp = 0\n",
        "for file in tqdm(human_files_short):\n",
        "  if face_detector(file):\n",
        "    temp += 1\n",
        "count.append(temp)    \n",
        "\n",
        "temp = 0\n",
        "for file in tqdm(dog_files_short):\n",
        "  if face_detector(file):\n",
        "    temp += 1\n",
        "count.append(temp)   \n",
        "    \n",
        "print('\\nPercentage of human face detected in the first 100 images:\\nhuman_files:{}\\tdog_files:{}'.format(count[0], count[1]))"
      ],
      "execution_count": 8,
      "outputs": [
        {
          "output_type": "stream",
          "text": [
            "100%|██████████| 100/100 [00:05<00:00, 19.72it/s]\n",
            "100%|██████████| 100/100 [00:28<00:00,  3.46it/s]"
          ],
          "name": "stderr"
        },
        {
          "output_type": "stream",
          "text": [
            "\n",
            "Percentage of human face detected in the first 100 images:\n",
            "human_files:99\tdog_files:16\n"
          ],
          "name": "stdout"
        },
        {
          "output_type": "stream",
          "text": [
            "\n"
          ],
          "name": "stderr"
        }
      ]
    },
    {
      "cell_type": "markdown",
      "metadata": {
        "id": "BKzrZ9NfmKG6"
      },
      "source": [
        "We suggest the face detector from OpenCV as a potential way to detect human images in your algorithm, but you are free to explore other approaches, especially approaches that make use of deep learning :).  Please use the code cell below to design and test your own face detection algorithm.  If you decide to pursue this _optional_ task, report performance on `human_files_short` and `dog_files_short`."
      ]
    },
    {
      "cell_type": "code",
      "metadata": {
        "id": "89odQ1MJmKG_"
      },
      "source": [
        "### (Optional) \n",
        "### TODO: Test performance of another face detection algorithm.\n",
        "### Feel free to use as many code cells as needed."
      ],
      "execution_count": null,
      "outputs": []
    },
    {
      "cell_type": "markdown",
      "metadata": {
        "id": "iZbcIR6NmKHo"
      },
      "source": [
        "---\n",
        "<a id='step2'></a>\n",
        "## Step 2: Detect Dogs\n",
        "\n",
        "In this section, we use a [pre-trained model](http://pytorch.org/docs/master/torchvision/models.html) to detect dogs in images.  \n",
        "\n",
        "### Obtain Pre-trained VGG-16 Model\n",
        "\n",
        "The code cell below downloads the VGG-16 model, along with weights that have been trained on [ImageNet](http://www.image-net.org/), a very large, very popular dataset used for image classification and other vision tasks.  ImageNet contains over 10 million URLs, each linking to an image containing an object from one of [1000 categories](https://gist.github.com/yrevar/942d3a0ac09ec9e5eb3a).  "
      ]
    },
    {
      "cell_type": "code",
      "metadata": {
        "id": "wrg9J_ZBmKHp",
        "outputId": "aabc57a1-2510-4a6f-e441-889916ab8a57",
        "colab": {
          "base_uri": "https://localhost:8080/",
          "height": 103,
          "referenced_widgets": [
            "1539dc0e089e44a59235ad82b38b3014",
            "41d08b8c221c49e2ade250c618bcaa8b",
            "e204f9892e2649d6865531b7188eaed8",
            "10db5d3dacb04ef3bc00e67d58f6342e",
            "13fc1df84a5f42cd98ae4c81f16850e8",
            "dacb00a21313403bb0826f3c0a87c1f4",
            "ec441449425b4714a2a4935b71211f3d",
            "49dc3dad65a846fbbb3e4b087cc9e1f2"
          ]
        }
      },
      "source": [
        "# define VGG16 model\n",
        "VGG16 = models.vgg16(pretrained=True)\n",
        "\n",
        "# check if CUDA is available\n",
        "use_cuda = torch.cuda.is_available()\n",
        "\n",
        "# move model to GPU if CUDA is available\n",
        "if use_cuda:\n",
        "    VGG16 = VGG16.cuda()"
      ],
      "execution_count": 9,
      "outputs": [
        {
          "output_type": "stream",
          "text": [
            "Downloading: \"https://download.pytorch.org/models/vgg16-397923af.pth\" to /root/.cache/torch/hub/checkpoints/vgg16-397923af.pth\n"
          ],
          "name": "stderr"
        },
        {
          "output_type": "display_data",
          "data": {
            "application/vnd.jupyter.widget-view+json": {
              "model_id": "1539dc0e089e44a59235ad82b38b3014",
              "version_minor": 0,
              "version_major": 2
            },
            "text/plain": [
              "HBox(children=(FloatProgress(value=0.0, max=553433881.0), HTML(value='')))"
            ]
          },
          "metadata": {
            "tags": []
          }
        },
        {
          "output_type": "stream",
          "text": [
            "\n"
          ],
          "name": "stdout"
        }
      ]
    },
    {
      "cell_type": "markdown",
      "metadata": {
        "id": "N6IauqDZmKH3"
      },
      "source": [
        "Given an image, this pre-trained VGG-16 model returns a prediction (derived from the 1000 possible categories in ImageNet) for the object that is contained in the image."
      ]
    },
    {
      "cell_type": "markdown",
      "metadata": {
        "id": "hA3gobXdmKH4"
      },
      "source": [
        "### (IMPLEMENTATION) Making Predictions with a Pre-trained Model\n",
        "\n",
        "In the next code cell, you will write a function that accepts a path to an image (such as `'dogImages/train/001.Affenpinscher/Affenpinscher_00001.jpg'`) as input and returns the index corresponding to the ImageNet class that is predicted by the pre-trained VGG-16 model.  The output should always be an integer between 0 and 999, inclusive.\n",
        "\n",
        "Before writing the function, make sure that you take the time to learn  how to appropriately pre-process tensors for pre-trained models in the [PyTorch documentation](http://pytorch.org/docs/stable/torchvision/models.html)."
      ]
    },
    {
      "cell_type": "code",
      "metadata": {
        "id": "BNLH6HzgmKH6"
      },
      "source": [
        "def process_image(image):\n",
        "    ''' \n",
        "    Scales, crops, and normalizes a PIL image for a PyTorch       \n",
        "    model, returns an Numpy array\n",
        "    '''\n",
        "    # Open the image\n",
        "    from PIL import Image\n",
        "    img = Image.open(image)\n",
        "    # Resize\n",
        "    if img.size[0] > img.size[1]:\n",
        "        img.thumbnail((10000, 256))\n",
        "    else:\n",
        "        img.thumbnail((256, 10000))\n",
        "    # Crop \n",
        "    left_margin = (img.width-224)/2\n",
        "    bottom_margin = (img.height-224)/2\n",
        "    right_margin = left_margin + 224\n",
        "    top_margin = bottom_margin + 224\n",
        "    img = img.crop((left_margin, bottom_margin, right_margin,   \n",
        "                      top_margin))\n",
        "    # Normalize\n",
        "    img = np.array(img)/255\n",
        "    mean = np.array([0.485, 0.456, 0.406]) \n",
        "    std = np.array([0.229, 0.224, 0.225]) \n",
        "    img = (img - mean)/std\n",
        "    \n",
        "    # Move color channels to first dimension as expected by PyTorch\n",
        "    img = img.transpose((2, 0, 1))    \n",
        "    \n",
        "    return img"
      ],
      "execution_count": 10,
      "outputs": []
    },
    {
      "cell_type": "markdown",
      "metadata": {
        "id": "9q9SiMd8mKII"
      },
      "source": [
        "### (IMPLEMENTATION) Write a Dog Detector\n",
        "\n",
        "While looking at the [dictionary](https://gist.github.com/yrevar/942d3a0ac09ec9e5eb3a), you will notice that the categories corresponding to dogs appear in an uninterrupted sequence and correspond to dictionary keys 151-268, inclusive, to include all categories from `'Chihuahua'` to `'Mexican hairless'`.  Thus, in order to check to see if an image is predicted to contain a dog by the pre-trained VGG-16 model, we need only check if the pre-trained model predicts an index between 151 and 268 (inclusive).\n",
        "\n",
        "Use these ideas to complete the `dog_detector` function below, which returns `True` if a dog is detected in an image (and `False` if not)."
      ]
    },
    {
      "cell_type": "code",
      "metadata": {
        "id": "1sZsZOyVmKIK"
      },
      "source": [
        "# Set PIL to be tolerant of image files that are truncated.\n",
        "ImageFile.LOAD_TRUNCATED_IMAGES = True\n",
        "\n",
        "def VGG16_predict(img_path):\n",
        "    '''\n",
        "    Use pre-trained VGG-16 model to obtain index corresponding to \n",
        "    predicted ImageNet class for image at specified path\n",
        "    \n",
        "    Args:\n",
        "        img_path: path to an image\n",
        "        \n",
        "    Returns:\n",
        "        Index corresponding to VGG-16 model's prediction\n",
        "    '''    \n",
        "    ## Load and pre-process an image from the given img_path\n",
        "    ## Return the *index* of the predicted class for that image\n",
        "    \n",
        "    # Process image\n",
        "    img = process_image(img_path) \n",
        "    img = torch.from_numpy(img).type(torch.FloatTensor) \n",
        "    img.unsqueeze_(0)\n",
        "    img = img.cuda()\n",
        "\n",
        "    # Predict top label\n",
        "    probs = torch.exp(VGG16.forward(img)) \n",
        "    top_prob, top_lab = probs.topk(1)     \n",
        "    \n",
        "    return top_lab # predicted class index"
      ],
      "execution_count": 11,
      "outputs": []
    },
    {
      "cell_type": "markdown",
      "metadata": {
        "id": "0a13wDibmKId"
      },
      "source": [
        "### (IMPLEMENTATION) Assess the Dog Detector\n",
        "\n",
        "__Question 2:__ Use the code cell below to test the performance of your `dog_detector` function.  \n",
        "- What percentage of the images in `human_files_short` have a detected dog?  \n",
        "- What percentage of the images in `dog_files_short` have a detected dog?"
      ]
    },
    {
      "cell_type": "markdown",
      "metadata": {
        "id": "hFPtEF9QmKIl"
      },
      "source": [
        "__Answer:__ \n"
      ]
    },
    {
      "cell_type": "code",
      "metadata": {
        "id": "rv-WSQL1mKIn",
        "outputId": "cd659961-c2ff-4641-bbc5-164353d1c8bb",
        "colab": {
          "base_uri": "https://localhost:8080/",
          "height": 102
        }
      },
      "source": [
        "### TODO: Test the performance of the dog_detector function\n",
        "### on the images in human_files_short and dog_files_short.\n",
        "### Test the performance of the dog_detector function\n",
        "### on the images in human_files_short and dog_files_short.\n",
        "human_files_short = human_files[:100]\n",
        "dog_files_short = dog_files[:100]\n",
        "\n",
        "count = []\n",
        "temp = 0\n",
        "for file in tqdm(human_files_short):\n",
        "  if dog_detector(file):\n",
        "    temp += 1\n",
        "count.append(temp)    \n",
        "\n",
        "temp = 0\n",
        "for file in tqdm(dog_files_short):\n",
        "  if dog_detector(file):\n",
        "    temp += 1\n",
        "count.append(temp)   \n",
        "    \n",
        "print('\\nPercentage of dogs detected in the first 100 images:\\nhuman_files:{}\\tdog_files:{}'.format(count[0], count[1]))"
      ],
      "execution_count": 15,
      "outputs": [
        {
          "output_type": "stream",
          "text": [
            "100%|██████████| 100/100 [00:01<00:00, 75.03it/s]\n",
            "100%|██████████| 100/100 [00:02<00:00, 48.41it/s]"
          ],
          "name": "stderr"
        },
        {
          "output_type": "stream",
          "text": [
            "\n",
            "Percentage of dogs detected in the first 100 images:\n",
            "human_files:2\tdog_files:89\n"
          ],
          "name": "stdout"
        },
        {
          "output_type": "stream",
          "text": [
            "\n"
          ],
          "name": "stderr"
        }
      ]
    },
    {
      "cell_type": "markdown",
      "metadata": {
        "id": "zIHJ5exemKI7"
      },
      "source": [
        "We suggest VGG-16 as a potential network to detect dog images in your algorithm, but you are free to explore other pre-trained networks (such as [Inception-v3](http://pytorch.org/docs/master/torchvision/models.html#inception-v3), [ResNet-50](http://pytorch.org/docs/master/torchvision/models.html#id3), etc).  Please use the code cell below to test other pre-trained PyTorch models.  If you decide to pursue this _optional_ task, report performance on `human_files_short` and `dog_files_short`."
      ]
    },
    {
      "cell_type": "code",
      "metadata": {
        "id": "WDqgbXjYmKI-",
        "outputId": "75759227-995c-4003-f898-cfddaeec5376",
        "colab": {
          "base_uri": "https://localhost:8080/",
          "height": 34
        }
      },
      "source": [
        "### (Optional) \n",
        "### TODO: Report the performance of another pre-trained network.\n",
        "### Feel free to use as many code cells as needed.\n",
        "int(VGG16_predict('dogImages/train/001.Affenpinscher/Affenpinscher_00001.jpg'))"
      ],
      "execution_count": 12,
      "outputs": [
        {
          "output_type": "execute_result",
          "data": {
            "text/plain": [
              "252"
            ]
          },
          "metadata": {
            "tags": []
          },
          "execution_count": 12
        }
      ]
    },
    {
      "cell_type": "code",
      "metadata": {
        "id": "0XkXttCzv2tD"
      },
      "source": [
        "### returns \"True\" if a dog is detected in the image stored at img_path\n",
        "def dog_detector(img_path):\n",
        "    pred = int(VGG16_predict(img_path))\n",
        "    if 150 < pred <269:\n",
        "      return True\n",
        "    else:    \n",
        "      return False "
      ],
      "execution_count": 14,
      "outputs": []
    },
    {
      "cell_type": "markdown",
      "metadata": {
        "id": "i6VpK2hHmKJe"
      },
      "source": [
        "---\n",
        "<a id='step3'></a>\n",
        "## Step 3: Create a CNN to Classify Dog Breeds (from Scratch)\n",
        "\n",
        "Now that we have functions for detecting humans and dogs in images, we need a way to predict breed from images.  In this step, you will create a CNN that classifies dog breeds.  You must create your CNN _from scratch_ (so, you can't use transfer learning _yet_!), and you must attain a test accuracy of at least 10%.  In Step 4 of this notebook, you will have the opportunity to use transfer learning to create a CNN that attains greatly improved accuracy.\n",
        "\n",
        "We mention that the task of assigning breed to dogs from images is considered exceptionally challenging.  To see why, consider that *even a human* would have trouble distinguishing between a Brittany and a Welsh Springer Spaniel.  \n",
        "\n",
        "Brittany | Welsh Springer Spaniel\n",
        "- | - \n",
        "<img src=\"images/Brittany_02625.jpg\" width=\"100\"> | <img src=\"images/Welsh_springer_spaniel_08203.jpg\" width=\"200\">\n",
        "\n",
        "It is not difficult to find other dog breed pairs with minimal inter-class variation (for instance, Curly-Coated Retrievers and American Water Spaniels).  \n",
        "\n",
        "Curly-Coated Retriever | American Water Spaniel\n",
        "- | -\n",
        "<img src=\"images/Curly-coated_retriever_03896.jpg\" width=\"200\"> | <img src=\"images/American_water_spaniel_00648.jpg\" width=\"200\">\n",
        "\n",
        "\n",
        "Likewise, recall that labradors come in yellow, chocolate, and black.  Your vision-based algorithm will have to conquer this high intra-class variation to determine how to classify all of these different shades as the same breed.  \n",
        "\n",
        "Yellow Labrador | Chocolate Labrador | Black Labrador\n",
        "- | -\n",
        "<img src=\"images/Labrador_retriever_06457.jpg\" width=\"150\"> | <img src=\"images/Labrador_retriever_06455.jpg\" width=\"240\"> | <img src=\"images/Labrador_retriever_06449.jpg\" width=\"220\">\n",
        "\n",
        "We also mention that random chance presents an exceptionally low bar: setting aside the fact that the classes are slightly imabalanced, a random guess will provide a correct answer roughly 1 in 133 times, which corresponds to an accuracy of less than 1%.  \n",
        "\n",
        "Remember that the practice is far ahead of the theory in deep learning.  Experiment with many different architectures, and trust your intuition.  And, of course, have fun!\n",
        "\n",
        "### (IMPLEMENTATION) Specify Data Loaders for the Dog Dataset\n",
        "\n",
        "Use the code cell below to write three separate [data loaders](http://pytorch.org/docs/stable/data.html#torch.utils.data.DataLoader) for the training, validation, and test datasets of dog images (located at `dogImages/train`, `dogImages/valid`, and `dogImages/test`, respectively).  You may find [this documentation on custom datasets](http://pytorch.org/docs/stable/torchvision/datasets.html) to be a useful resource.  If you are interested in augmenting your training and/or validation data, check out the wide variety of [transforms](http://pytorch.org/docs/stable/torchvision/transforms.html?highlight=transform)!"
      ]
    },
    {
      "cell_type": "code",
      "metadata": {
        "id": "l04ee7W1mKJg"
      },
      "source": [
        "### Write data loaders for training, validation, and test sets\n",
        "## Specify appropriate transforms, and batch_sizes\n",
        "# Transforms for the training and validation sets\n",
        "\n",
        "data_transforms = {\n",
        "    'train': transforms.Compose([        \n",
        "        transforms.ColorJitter(brightness=.2, contrast=.2, saturation=.2),\n",
        "        transforms.RandomRotation(45),\n",
        "        transforms.RandomResizedCrop(224),\n",
        "        transforms.RandomHorizontalFlip(),\n",
        "        transforms.RandomVerticalFlip(),\n",
        "        transforms.ToTensor(),\n",
        "        transforms.Normalize([0.485, 0.456, 0.406], \n",
        "                             [0.229, 0.224, 0.225])\n",
        "    ]),\n",
        "    'valid': transforms.Compose([\n",
        "        transforms.Resize(256),\n",
        "        transforms.CenterCrop(224),\n",
        "        transforms.ToTensor(),\n",
        "        transforms.Normalize([0.485, 0.456, 0.406], \n",
        "                             [0.229, 0.224, 0.225])\n",
        "    ]),\n",
        "    'test': transforms.Compose([\n",
        "        transforms.Resize(256),\n",
        "        transforms.CenterCrop(224),\n",
        "        transforms.ToTensor(),\n",
        "        transforms.Normalize([0.485, 0.456, 0.406], \n",
        "                             [0.229, 0.224, 0.225])\n",
        "    ])\n",
        "}"
      ],
      "execution_count": 17,
      "outputs": []
    },
    {
      "cell_type": "code",
      "metadata": {
        "id": "Yd2gDm8WpnNK"
      },
      "source": [
        "\n",
        "dirs = {'train': 'dogImages/train', \n",
        "        'valid': 'dogImages/valid',\n",
        "        'test': 'dogImages/test'}\n",
        "\n",
        "image_datasets = {x: datasets.ImageFolder(dirs[x],   transform=data_transforms[x]) for x in ['train', 'valid', 'test']}\n",
        "loaders_scratch = {x: torch.utils.data.DataLoader(image_datasets[x], batch_size=64, shuffle=True) for x in ['train', 'valid', 'test']}\n",
        "dataset_sizes = {x: len(image_datasets[x]) \n",
        "                              for x in ['train', 'valid', 'test']}\n",
        "\n",
        "class_names = image_datasets['train'].classes"
      ],
      "execution_count": 18,
      "outputs": []
    },
    {
      "cell_type": "markdown",
      "metadata": {
        "id": "lxa98petmKJr"
      },
      "source": [
        "**Question 3:** Describe your chosen procedure for preprocessing the data. \n",
        "- How does your code resize the images (by cropping, stretching, etc)?  What size did you pick for the input tensor, and why?\n",
        "- Did you decide to augment the dataset?  If so, how (through translations, flips, rotations, etc)?  If not, why not?\n"
      ]
    },
    {
      "cell_type": "markdown",
      "metadata": {
        "id": "fZLlhDS4mKJs"
      },
      "source": [
        "**Answer**:\n",
        "\n",
        "I loaded in the training, test and validation data, then created DataLoaders for each of these sets of data.\n",
        "\n",
        "I resized all image to 224, center cropped and added some simple data augmentation by randomly flipping and rotating the given image data.\n",
        "\n",
        "I approached the problem iteratively, starting with the examples from the previous labs, especially Cifar and MMNIST examples.\n",
        "\n",
        "We are working with (224, 224, 3) images in this project so the inputs are significantly bigger than the labs (28, 28, 1) for Mnist and (32x32x3) for CIFAR.\n",
        "\n",
        "Most of the pretrained models require the input to be 224x224 images. Also, we'll need to match the normalization used when the models were trained. Each color channel was normalized separately, the means are [0.485, 0.456, 0.406] and the standard deviations are [0.229, 0.224, 0.225]."
      ]
    },
    {
      "cell_type": "markdown",
      "metadata": {
        "id": "8OQbCPOamKJt"
      },
      "source": [
        "### (IMPLEMENTATION) Model Architecture\n",
        "\n",
        "Create a CNN to classify dog breed.  Use the template in the code cell below."
      ]
    },
    {
      "cell_type": "code",
      "metadata": {
        "id": "SEUevj41mKJv",
        "outputId": "78b0a518-81d1-4252-b3a3-9ee4b0ec1a46",
        "colab": {
          "base_uri": "https://localhost:8080/",
          "height": 204
        }
      },
      "source": [
        "# define the CNN architecture\n",
        "class Net(nn.Module):\n",
        "    ### choose an architecture, and complete the class\n",
        "    def __init__(self):\n",
        "        super(Net, self).__init__()\n",
        "        ## Define layers of a CNN\n",
        "        # convolutional layer (sees 224x224x3 image tensor)\n",
        "        self.conv1 = nn.Conv2d(3, 16, 3, padding=1)\n",
        "        # convolutional layer (sees 112x112x112 tensor)\n",
        "        self.conv2 = nn.Conv2d(16, 16, 3, padding=1)\n",
        "        # convolutional layer (sees 56x56x56 tensor)\n",
        "        self.conv3 = nn.Conv2d(16, 32, 3, padding=1)\n",
        "        # convolutional layer (sees 28x28x28 tensor)\n",
        "        self.conv4 = nn.Conv2d(32, 64, 3, padding=1)\n",
        "        # max pooling layer\n",
        "        self.pool = nn.MaxPool2d(2, 2)\n",
        "        # linear layer (512 * 14 * 14 -> 4096)\n",
        "        self.fc1 = nn.Linear(64*14*14, 4096)\n",
        "        # linear layer (4096 -> 4096)\n",
        "        self.fc2 = nn.Linear(4096, 4096)\n",
        "        # linear layer (4096 -> number of classes)\n",
        "        self.fc3 = nn.Linear(4096, len(class_names))\n",
        "        # dropout layer (p=0.5)\n",
        "        self.dropout = nn.Dropout(0.5)        \n",
        "    \n",
        "    def forward(self, x):\n",
        "        ## Define forward behavior\n",
        "        # add sequence of convolutional and max pooling layers        \n",
        "        x = self.pool(F.relu(self.conv1(x)))       \n",
        "        x = self.pool(F.relu(self.conv2(x)))\n",
        "        x = self.pool(F.relu(self.conv3(x)))\n",
        "        x = self.pool(F.relu(self.conv4(x)))\n",
        "        # flatten image input, size is depth of image in previous maxpool*depth of convolution\n",
        "        x = x.view(-1, 64*14*14)\n",
        "        # add dropout layer\n",
        "        x = self.dropout(x)\n",
        "        # add 1st hidden layer, with relu activation function\n",
        "        x = F.relu(self.fc1(x))\n",
        "        # add dropout layer\n",
        "        x = self.dropout(x)\n",
        "        # add 2nd hidden layer, with relu activation function\n",
        "        x = F.relu(self.fc2(x))\n",
        "        # add dropout layer\n",
        "        x = self.dropout(x)\n",
        "        # add 2nd hidden layer, with relu activation function\n",
        "        x = self.fc3(x)\n",
        "        return x\n",
        "\n",
        "# instantiate the CNN\n",
        "model_scratch = Net()\n",
        "print(model_scratch)\n",
        "\n",
        "# move tensors to GPU if CUDA is available\n",
        "if use_cuda:\n",
        "    model_scratch.cuda()"
      ],
      "execution_count": 19,
      "outputs": [
        {
          "output_type": "stream",
          "text": [
            "Net(\n",
            "  (conv1): Conv2d(3, 16, kernel_size=(3, 3), stride=(1, 1), padding=(1, 1))\n",
            "  (conv2): Conv2d(16, 16, kernel_size=(3, 3), stride=(1, 1), padding=(1, 1))\n",
            "  (conv3): Conv2d(16, 32, kernel_size=(3, 3), stride=(1, 1), padding=(1, 1))\n",
            "  (conv4): Conv2d(32, 64, kernel_size=(3, 3), stride=(1, 1), padding=(1, 1))\n",
            "  (pool): MaxPool2d(kernel_size=2, stride=2, padding=0, dilation=1, ceil_mode=False)\n",
            "  (fc1): Linear(in_features=12544, out_features=4096, bias=True)\n",
            "  (fc2): Linear(in_features=4096, out_features=4096, bias=True)\n",
            "  (fc3): Linear(in_features=4096, out_features=133, bias=True)\n",
            "  (dropout): Dropout(p=0.5, inplace=False)\n",
            ")\n"
          ],
          "name": "stdout"
        }
      ]
    },
    {
      "cell_type": "markdown",
      "metadata": {
        "id": "b4uWHWERmKJ4"
      },
      "source": [
        "__Question 4:__ Outline the steps you took to get to your final CNN architecture and your reasoning at each step.  "
      ]
    },
    {
      "cell_type": "markdown",
      "metadata": {
        "id": "8fVkRwKUmKJ5"
      },
      "source": [
        "__Answer:__ \n",
        "\n",
        "First layer has input shape of (224, 224, 3) and last layer should output 133 classes.\n",
        "\n",
        "I started adding Convolutional layers (stack of filtered images) and Maxpooling layers(reduce the x-y size of an input, keeping only the most active pixels from the previous layer) as well as the usual Linear + Dropout layers to avoid overfitting and produce a 133-dim output.\n",
        "\n",
        "MaxPooling2D seems to be a common choice to downsample in these type of classification problems and that is why I chose it.\n",
        "\n",
        "The more convolutional layers we include, the more complex patterns in color and shape a model can detect.\n",
        "\n",
        "The first layer in my CNN is a convolutional layer that takes (224, 224, 3) inpute shap.\n",
        "\n",
        "I'd like my new layer to have 16 filters, each with a height and width of 3. When performing the convolution, I'd like the filter to jump 1 pixel at a time.\n",
        "\n",
        "_nn.Conv2d(in_channels, out_channels, kernelsize, stride=1, padding=0)\n",
        "\n",
        "I want this layer to have the same width and height as the input layer, so I will pad accordingly;\n",
        "Then, to construct this convolutional layer, I would use the following line of code: self.conv2 = nn.Conv2d(3, 32, 3, padding=1)\n",
        "\n",
        "I am adding a pool layer that takes in a kernel_size and a stride after every convolution layer. This will down-sample the input's x-y dimensions, by a factor of 2:\n",
        "\n",
        "self.pool = nn.MaxPool2d(2,2)\n",
        "\n",
        "I am adding a fully connected Linear Layer to produce a 133-dim output. As well as a Dropout layer to avoid overfitting.\n",
        "\n",
        "Forward pass would give:\n",
        "\n",
        "torch.Size([16, 3, 224, 224])\n",
        "\n",
        "torch.Size([16, 16, 112, 112])\n",
        "\n",
        "torch.Size([16, 32, 56, 56])\n",
        "\n",
        "torch.Size([16, 64, 28, 28])\n",
        "\n",
        "torch.Size([16, 50176])\n",
        "\n",
        "torch.Size([16, 500])\n",
        "\n",
        "torch.Size([16, 133])"
      ]
    },
    {
      "cell_type": "markdown",
      "metadata": {
        "id": "9ZNcE6RGmKJ6"
      },
      "source": [
        "### (IMPLEMENTATION) Specify Loss Function and Optimizer\n",
        "\n",
        "Use the next code cell to specify a [loss function](http://pytorch.org/docs/stable/nn.html#loss-functions) and [optimizer](http://pytorch.org/docs/stable/optim.html).  Save the chosen loss function as `criterion_scratch`, and the optimizer as `optimizer_scratch` below."
      ]
    },
    {
      "cell_type": "code",
      "metadata": {
        "id": "Fqv2unpWmKJ7"
      },
      "source": [
        "### select loss function\n",
        "criterion_scratch = nn.CrossEntropyLoss()\n",
        "\n",
        "### select optimizer\n",
        "optimizer_scratch = optim.Adam(model_scratch.parameters(), lr=0.0001)\n",
        "\n",
        "# Decay LR by a factor of 0.1 every 4 epochs\n",
        "scheduler_scratch = lr_scheduler.StepLR(optimizer_scratch, step_size = 8, gamma=0.1)"
      ],
      "execution_count": 20,
      "outputs": []
    },
    {
      "cell_type": "markdown",
      "metadata": {
        "id": "kxz5Z_MumKKK"
      },
      "source": [
        "### (IMPLEMENTATION) Train and Validate the Model\n",
        "\n",
        "Train and validate your model in the code cell below.  [Save the final model parameters](http://pytorch.org/docs/master/notes/serialization.html) at filepath `'model_scratch.pt'`."
      ]
    },
    {
      "cell_type": "code",
      "metadata": {
        "id": "LRCSJbILmKKM",
        "outputId": "1f0c3b91-0952-4710-fa70-6c7634463ea2",
        "colab": {
          "base_uri": "https://localhost:8080/",
          "height": 1000
        }
      },
      "source": [
        "all_losses = {'epoch': [],\n",
        "              'train': [],\n",
        "              'valid': [],\n",
        "              'test': []\n",
        "             }\n",
        "\n",
        "all_accuracies = {'epoch': [],\n",
        "                  'train': [],\n",
        "                  'valid': [],\n",
        "                  'test': []\n",
        "             }\n",
        "\n",
        "\n",
        "def print_current_time():\n",
        "  # Display time in IST(UTC+5:30)\n",
        "  hours, mins, secs = str(datetime.datetime.now().time())[:-8].split(':')\n",
        "  hours, mins, secs = int(hours), int(mins), int(secs)\n",
        "\n",
        "  if (mins+30)<60:\n",
        "    hours = hours+5 \n",
        "    mins=mins+30 \n",
        "  else:\n",
        "    hours = hours+6 \n",
        "    mins = (mins+30) - 60\n",
        "    \n",
        "  print('Current time - {}:{}:{}'.format(hours, mins, secs)) \n",
        "\n",
        "# the following import is required for training to be robust to truncated images\n",
        "ImageFile.LOAD_TRUNCATED_IMAGES = True\n",
        "\n",
        "def train(n_epochs, loaders, model, optimizer, criterion, use_cuda, save_path):\n",
        "    \"\"\"returns trained model\"\"\"\n",
        "    # initialize tracker for minimum validation loss\n",
        "    valid_loss_min = np.Inf \n",
        "    print_current_time()       \n",
        "    \n",
        "    for epoch in range(1, n_epochs+1):\n",
        "        all_losses['epoch'].append(epoch)\n",
        "        all_accuracies['epoch'].append(epoch)\n",
        "        start_time = time.time()\n",
        "        print('-'*11)\n",
        "        print('Epoch: {}'.format(epoch))\n",
        "       \n",
        "        # initialize variables to monitor training and validation loss\n",
        "        train_loss = 0.0\n",
        "        valid_loss = 0.0\n",
        "        train_running_corrects = 0\n",
        "        valid_running_corrects = 0\n",
        "        \n",
        "        ###################\n",
        "        # train the model #\n",
        "        ###################\n",
        "        model.train()\n",
        "        for batch_idx, (data, target) in enumerate(loaders_scratch['train']):\n",
        "            # move to GPU\n",
        "            if use_cuda:\n",
        "                data, target = data.cuda(), target.cuda()\n",
        "            ## find the loss and update the model parameters accordingly\n",
        "            ## record the average training loss, using something like\n",
        "            ## train_loss = train_loss + ((1 / (batch_idx + 1)) * (loss.data - train_loss))\n",
        "                                \n",
        "            # clear the gradients of all optimized variables\n",
        "            optimizer_scratch.zero_grad()\n",
        "            # forward pass: compute predicted outputs by passing inputs to the model\n",
        "            outputs = model_scratch(data)\n",
        "            _, preds = torch.max(outputs, 1)\n",
        "            # calculate the batch loss\n",
        "            loss = criterion_scratch(outputs, target)\n",
        "            # backward pass: compute gradient of the loss with respect to model parameters\n",
        "            loss.backward()\n",
        "            # perform a single optimization step (parameter update)\n",
        "            optimizer_scratch.step()\n",
        "            # update training loss\n",
        "            train_loss += loss.item()*data.size(0)\n",
        "            train_running_corrects += torch.sum(preds == target.data)   \n",
        "            \n",
        "        ######################    \n",
        "        # validate the model #\n",
        "        ######################\n",
        "        model.eval()\n",
        "        for batch_idx, (data, target) in enumerate(loaders_scratch['valid']):\n",
        "            # move to GPU\n",
        "            if use_cuda:\n",
        "                data, target = data.cuda(), target.cuda()\n",
        "            ## update the average validation loss\n",
        "            # forward pass: compute predicted outputs by passing inputs to the model\n",
        "            outputs = model_scratch(data)\n",
        "            _, preds = torch.max(outputs, 1)\n",
        "            # calculate the batch loss\n",
        "            loss = criterion_scratch(outputs, target)\n",
        "            # update average validation loss \n",
        "            valid_loss += loss.item()*data.size(0)\n",
        "            valid_running_corrects += torch.sum(preds == target.data)\n",
        "            \n",
        "        # calculate average losses and accuracies\n",
        "        train_loss = train_loss/len(loaders_scratch['train'].dataset)\n",
        "        all_losses['train'].append(train_loss)\n",
        "        valid_loss = valid_loss/len(loaders_scratch['valid'].dataset)\n",
        "        all_losses['valid'].append(valid_loss)\n",
        "\n",
        "        train_acc = train_running_corrects.double()/len(loaders_scratch['train'].dataset)\n",
        "        all_accuracies['train'].append(train_acc)\n",
        "        valid_acc = valid_running_corrects.double()/len(loaders_scratch['valid'].dataset)\n",
        "        all_accuracies['valid'].append(valid_acc)\n",
        "        time_epoch = time.time() - start_time\n",
        "\n",
        "            \n",
        "        # print training/validation statistics \n",
        "        print('Training Loss: {:.6f} \\tValidation Loss: {:.6f}\\tTime: {:.0f}m {:.0f}s'.format(             \n",
        "            train_loss,\n",
        "            valid_loss,\n",
        "            time_epoch // 60, time_epoch % 60\n",
        "            ))\n",
        "        \n",
        "        ## save the model if validation loss has decreased\n",
        "        if valid_loss <= valid_loss_min:\n",
        "          print('Validation loss decreased ({:.6f} --> {:.6f}).  Saving model ...'.format(\n",
        "          valid_loss_min,\n",
        "          valid_loss))\n",
        "          torch.save(model_scratch.state_dict(), 'model_scratch.pt')\n",
        "          valid_loss_min = valid_loss  \n",
        "          \n",
        "        # every 5 epochs print current time\n",
        "        if epoch%5 == 0:\n",
        "          print('*'*11)\n",
        "          print_current_time()\n",
        "          print('*'*11)          \n",
        "        \n",
        "    print()\n",
        "            \n",
        "    # return trained model\n",
        "    return model\n",
        "\n",
        "\n",
        "# train the model\n",
        "model_scratch = train(30, loaders_scratch, model_scratch, optimizer_scratch, \n",
        "                      criterion_scratch, use_cuda, 'model_scratch.pt')\n",
        "\n",
        "# load the model that got the best validation accuracy\n",
        "model_scratch.load_state_dict(torch.load('model_scratch.pt'))"
      ],
      "execution_count": 21,
      "outputs": [
        {
          "output_type": "stream",
          "text": [
            "Current time - 19:14:2\n",
            "-----------\n",
            "Epoch: 1\n",
            "Training Loss: 4.880693 \tValidation Loss: 4.859005\tTime: 4m 0s\n",
            "Validation loss decreased (inf --> 4.859005).  Saving model ...\n",
            "-----------\n",
            "Epoch: 2\n",
            "Training Loss: 4.842360 \tValidation Loss: 4.767174\tTime: 3m 57s\n",
            "Validation loss decreased (4.859005 --> 4.767174).  Saving model ...\n",
            "-----------\n",
            "Epoch: 3\n",
            "Training Loss: 4.726326 \tValidation Loss: 4.598427\tTime: 3m 49s\n",
            "Validation loss decreased (4.767174 --> 4.598427).  Saving model ...\n",
            "-----------\n",
            "Epoch: 4\n",
            "Training Loss: 4.611787 \tValidation Loss: 4.477365\tTime: 3m 47s\n",
            "Validation loss decreased (4.598427 --> 4.477365).  Saving model ...\n",
            "-----------\n",
            "Epoch: 5\n",
            "Training Loss: 4.565732 \tValidation Loss: 4.426535\tTime: 3m 48s\n",
            "Validation loss decreased (4.477365 --> 4.426535).  Saving model ...\n",
            "***********\n",
            "Current time - 19:33:5\n",
            "***********\n",
            "-----------\n",
            "Epoch: 6\n",
            "Training Loss: 4.537204 \tValidation Loss: 4.407891\tTime: 3m 46s\n",
            "Validation loss decreased (4.426535 --> 4.407891).  Saving model ...\n",
            "-----------\n",
            "Epoch: 7\n",
            "Training Loss: 4.504131 \tValidation Loss: 4.357522\tTime: 3m 50s\n",
            "Validation loss decreased (4.407891 --> 4.357522).  Saving model ...\n",
            "-----------\n",
            "Epoch: 8\n",
            "Training Loss: 4.462456 \tValidation Loss: 4.322002\tTime: 3m 49s\n",
            "Validation loss decreased (4.357522 --> 4.322002).  Saving model ...\n",
            "-----------\n",
            "Epoch: 9\n",
            "Training Loss: 4.421107 \tValidation Loss: 4.282725\tTime: 3m 47s\n",
            "Validation loss decreased (4.322002 --> 4.282725).  Saving model ...\n",
            "-----------\n",
            "Epoch: 10\n",
            "Training Loss: 4.417523 \tValidation Loss: 4.263985\tTime: 3m 47s\n",
            "Validation loss decreased (4.282725 --> 4.263985).  Saving model ...\n",
            "***********\n",
            "Current time - 19:52:5\n",
            "***********\n",
            "-----------\n",
            "Epoch: 11\n",
            "Training Loss: 4.382817 \tValidation Loss: 4.224278\tTime: 3m 49s\n",
            "Validation loss decreased (4.263985 --> 4.224278).  Saving model ...\n",
            "-----------\n",
            "Epoch: 12\n",
            "Training Loss: 4.355728 \tValidation Loss: 4.208403\tTime: 3m 51s\n",
            "Validation loss decreased (4.224278 --> 4.208403).  Saving model ...\n",
            "-----------\n",
            "Epoch: 13\n",
            "Training Loss: 4.328539 \tValidation Loss: 4.181358\tTime: 3m 46s\n",
            "Validation loss decreased (4.208403 --> 4.181358).  Saving model ...\n",
            "-----------\n",
            "Epoch: 14\n",
            "Training Loss: 4.304134 \tValidation Loss: 4.138278\tTime: 3m 44s\n",
            "Validation loss decreased (4.181358 --> 4.138278).  Saving model ...\n",
            "-----------\n",
            "Epoch: 15\n",
            "Training Loss: 4.285014 \tValidation Loss: 4.151481\tTime: 3m 49s\n",
            "***********\n",
            "Current time - 20:11:5\n",
            "***********\n",
            "-----------\n",
            "Epoch: 16\n",
            "Training Loss: 4.259325 \tValidation Loss: 4.125237\tTime: 3m 58s\n",
            "Validation loss decreased (4.138278 --> 4.125237).  Saving model ...\n",
            "-----------\n",
            "Epoch: 17\n",
            "Training Loss: 4.235107 \tValidation Loss: 4.092679\tTime: 3m 45s\n",
            "Validation loss decreased (4.125237 --> 4.092679).  Saving model ...\n",
            "-----------\n",
            "Epoch: 18\n",
            "Training Loss: 4.190474 \tValidation Loss: 4.107845\tTime: 3m 43s\n",
            "-----------\n",
            "Epoch: 19\n",
            "Training Loss: 4.192845 \tValidation Loss: 4.067346\tTime: 3m 40s\n",
            "Validation loss decreased (4.092679 --> 4.067346).  Saving model ...\n",
            "-----------\n",
            "Epoch: 20\n",
            "Training Loss: 4.175456 \tValidation Loss: 4.037802\tTime: 3m 40s\n",
            "Validation loss decreased (4.067346 --> 4.037802).  Saving model ...\n",
            "***********\n",
            "Current time - 20:30:4\n",
            "***********\n",
            "-----------\n",
            "Epoch: 21\n",
            "Training Loss: 4.158057 \tValidation Loss: 4.014355\tTime: 3m 39s\n",
            "Validation loss decreased (4.037802 --> 4.014355).  Saving model ...\n",
            "-----------\n",
            "Epoch: 22\n",
            "Training Loss: 4.149814 \tValidation Loss: 4.021420\tTime: 3m 39s\n",
            "-----------\n",
            "Epoch: 23\n",
            "Training Loss: 4.129454 \tValidation Loss: 3.999423\tTime: 3m 39s\n",
            "Validation loss decreased (4.014355 --> 3.999423).  Saving model ...\n",
            "-----------\n",
            "Epoch: 24\n",
            "Training Loss: 4.110414 \tValidation Loss: 3.991432\tTime: 3m 39s\n",
            "Validation loss decreased (3.999423 --> 3.991432).  Saving model ...\n",
            "-----------\n",
            "Epoch: 25\n",
            "Training Loss: 4.096873 \tValidation Loss: 3.966757\tTime: 3m 39s\n",
            "Validation loss decreased (3.991432 --> 3.966757).  Saving model ...\n",
            "***********\n",
            "Current time - 20:49:0\n",
            "***********\n",
            "-----------\n",
            "Epoch: 26\n",
            "Training Loss: 4.099367 \tValidation Loss: 4.040556\tTime: 3m 40s\n",
            "-----------\n",
            "Epoch: 27\n",
            "Training Loss: 4.080561 \tValidation Loss: 3.936662\tTime: 3m 39s\n",
            "Validation loss decreased (3.966757 --> 3.936662).  Saving model ...\n",
            "-----------\n",
            "Epoch: 28\n",
            "Training Loss: 4.047440 \tValidation Loss: 3.951099\tTime: 3m 39s\n",
            "-----------\n",
            "Epoch: 29\n",
            "Training Loss: 4.035146 \tValidation Loss: 3.920111\tTime: 3m 40s\n",
            "Validation loss decreased (3.936662 --> 3.920111).  Saving model ...\n",
            "-----------\n",
            "Epoch: 30\n",
            "Training Loss: 4.027959 \tValidation Loss: 3.947044\tTime: 3m 40s\n",
            "***********\n",
            "Current time - 21:7:2\n",
            "***********\n",
            "\n"
          ],
          "name": "stdout"
        },
        {
          "output_type": "execute_result",
          "data": {
            "text/plain": [
              "<All keys matched successfully>"
            ]
          },
          "metadata": {
            "tags": []
          },
          "execution_count": 21
        }
      ]
    },
    {
      "cell_type": "markdown",
      "metadata": {
        "id": "CLdE9nUlmKKY"
      },
      "source": [
        "### (IMPLEMENTATION) Test the Model\n",
        "\n",
        "Try out your model on the test dataset of dog images.  Use the code cell below to calculate and print the test loss and accuracy.  Ensure that your test accuracy is greater than 10%."
      ]
    },
    {
      "cell_type": "code",
      "metadata": {
        "id": "ccimIBdxmKKa",
        "outputId": "3ee7279d-7282-4c18-e246-c770ace0d045",
        "colab": {
          "base_uri": "https://localhost:8080/",
          "height": 85
        }
      },
      "source": [
        "def test(loaders, model, criterion, use_cuda):\n",
        "\n",
        "    # monitor test loss and accuracy\n",
        "    test_loss = 0.\n",
        "    correct = 0.\n",
        "    total = 0.\n",
        "\n",
        "    model.eval()\n",
        "    for batch_idx, (data, target) in enumerate(loaders['test']):\n",
        "        # move to GPU\n",
        "        if use_cuda:\n",
        "            data, target = data.cuda(), target.cuda()\n",
        "        # forward pass: compute predicted outputs by passing inputs to the model\n",
        "        output = model(data)\n",
        "        # calculate the loss\n",
        "        loss = criterion(output, target)\n",
        "        # update average test loss \n",
        "        test_loss = test_loss + ((1 / (batch_idx + 1)) * (loss.data - test_loss))\n",
        "        # convert output probabilities to predicted class\n",
        "        pred = output.data.max(1, keepdim=True)[1]\n",
        "        # compare predictions to true label\n",
        "        correct += np.sum(np.squeeze(pred.eq(target.data.view_as(pred))).cpu().numpy())\n",
        "        total += data.size(0)\n",
        "            \n",
        "    print('Test Loss: {:.6f}\\n'.format(test_loss))\n",
        "\n",
        "    print('\\nTest Accuracy: %2d%% (%2d/%2d)' % (\n",
        "        100. * correct / total, correct, total))\n",
        "\n",
        "# call test function    \n",
        "test(loaders_scratch, model_scratch, criterion_scratch, use_cuda)"
      ],
      "execution_count": 22,
      "outputs": [
        {
          "output_type": "stream",
          "text": [
            "Test Loss: 4.001913\n",
            "\n",
            "\n",
            "Test Accuracy:  9% (78/836)\n"
          ],
          "name": "stdout"
        }
      ]
    },
    {
      "cell_type": "markdown",
      "metadata": {
        "id": "BXMTYK-emKKh"
      },
      "source": [
        "---\n",
        "<a id='step4'></a>\n",
        "## Step 4: Create a CNN to Classify Dog Breeds (using Transfer Learning)\n",
        "\n",
        "You will now use transfer learning to create a CNN that can identify dog breed from images.  Your CNN must attain at least 60% accuracy on the test set.\n",
        "\n",
        "### (IMPLEMENTATION) Specify Data Loaders for the Dog Dataset\n",
        "\n",
        "Use the code cell below to write three separate [data loaders](http://pytorch.org/docs/master/data.html#torch.utils.data.DataLoader) for the training, validation, and test datasets of dog images (located at `dogImages/train`, `dogImages/valid`, and `dogImages/test`, respectively). \n",
        "\n",
        "If you like, **you are welcome to use the same data loaders from the previous step**, when you created a CNN from scratch."
      ]
    },
    {
      "cell_type": "code",
      "metadata": {
        "id": "KaGEaecemKKi"
      },
      "source": [
        "## TODO: Specify data loaders\n",
        "### Write data loaders for training, validation, and test sets\n",
        "## Specify appropriate transforms, and batch_sizes\n",
        "# Transforms for the training and validation sets\n",
        "\n",
        "data_transforms = {\n",
        "    'train': transforms.Compose([        \n",
        "        transforms.ColorJitter(brightness=.2, contrast=.2, saturation=.2),\n",
        "        transforms.RandomRotation(45),\n",
        "        transforms.RandomResizedCrop(224),\n",
        "        transforms.RandomHorizontalFlip(),\n",
        "        transforms.RandomVerticalFlip(),\n",
        "        transforms.ToTensor(),\n",
        "        transforms.Normalize([0.485, 0.456, 0.406], \n",
        "                             [0.229, 0.224, 0.225])\n",
        "    ]),\n",
        "    'valid': transforms.Compose([\n",
        "        transforms.Resize(256),\n",
        "        transforms.CenterCrop(224),\n",
        "        transforms.ToTensor(),\n",
        "        transforms.Normalize([0.485, 0.456, 0.406], \n",
        "                             [0.229, 0.224, 0.225])\n",
        "    ]),\n",
        "    'test': transforms.Compose([\n",
        "        transforms.Resize(256),\n",
        "        transforms.CenterCrop(224),\n",
        "        transforms.ToTensor(),\n",
        "        transforms.Normalize([0.485, 0.456, 0.406], \n",
        "                             [0.229, 0.224, 0.225])\n",
        "    ])\n",
        "}"
      ],
      "execution_count": 23,
      "outputs": []
    },
    {
      "cell_type": "code",
      "metadata": {
        "id": "TwuYTJdEqQtE"
      },
      "source": [
        "dirs = {'train': 'dogImages/train', \n",
        "        'valid': 'dogImages/valid',\n",
        "        'test': 'dogImages/test'}\n",
        "\n",
        "image_datasets = {x: datasets.ImageFolder(dirs[x],   transform=data_transforms[x]) for x in ['train', 'valid', 'test']}\n",
        "dataloaders = {x: torch.utils.data.DataLoader(image_datasets[x], batch_size=64, shuffle=True) for x in ['train', 'valid', 'test']}\n",
        "dataset_sizes = {x: len(image_datasets[x]) \n",
        "                              for x in ['train', 'valid', 'test']}\n",
        "\n",
        "class_names = image_datasets['train'].classes"
      ],
      "execution_count": 24,
      "outputs": []
    },
    {
      "cell_type": "markdown",
      "metadata": {
        "id": "rZxZehMKmKKt"
      },
      "source": [
        "### (IMPLEMENTATION) Model Architecture\n",
        "\n",
        "Use transfer learning to create a CNN to classify dog breed.  Use the code cell below, and save your initialized model as the variable `model_transfer`."
      ]
    },
    {
      "cell_type": "code",
      "metadata": {
        "id": "X9V4jMKFmKKu",
        "outputId": "de91e5d1-adb1-4a5e-98f0-fd1d187fd22e",
        "colab": {
          "base_uri": "https://localhost:8080/",
          "height": 103,
          "referenced_widgets": [
            "0b0bf50394c7416c80bb0b8b0956c71a",
            "c5ee7d75e5fa4f75b5fb7f88c47b8ac3",
            "04039899d3a449c090eaacf0ea62d45f",
            "a3dd1009e72a4c7da69384c999c00ca5",
            "ab7142766b3e46488d6481ea30d1efff",
            "eb356fa15533442093a9fd87e874f55b",
            "6f4822994b544a00a4464ba52c0a6c98",
            "43e20b47e88c4822937ca102dc3601e9"
          ]
        }
      },
      "source": [
        "## Specify model architecture \n",
        "# Load the pretrained model from pytorch\n",
        "model_transfer = models.densenet161(pretrained=True)\n",
        "\n",
        "if use_cuda:\n",
        "    model_transfer = model_transfer.cuda()\n",
        "    \n",
        "classifier = nn.Sequential(OrderedDict([\n",
        "                          ('fc1', nn.Linear(model_transfer.classifier.in_features, model_transfer.classifier.out_features)),\n",
        "                          ('relu', nn.ReLU()),                          \n",
        "                          ('fc2', nn.Linear(model_transfer.classifier.out_features, len(class_names))),\n",
        "                          ('output', nn.LogSoftmax(dim=1))\n",
        "                          ]))  \n",
        "\n",
        "# Freeze training for all \"features\" layers\n",
        "for param in model_transfer.features.parameters():\n",
        "    param.requires_grad = False\n",
        "    \n",
        "model_transfer.classifier = classifier"
      ],
      "execution_count": 25,
      "outputs": [
        {
          "output_type": "stream",
          "text": [
            "Downloading: \"https://download.pytorch.org/models/densenet161-8d451a50.pth\" to /root/.cache/torch/hub/checkpoints/densenet161-8d451a50.pth\n"
          ],
          "name": "stderr"
        },
        {
          "output_type": "display_data",
          "data": {
            "application/vnd.jupyter.widget-view+json": {
              "model_id": "0b0bf50394c7416c80bb0b8b0956c71a",
              "version_minor": 0,
              "version_major": 2
            },
            "text/plain": [
              "HBox(children=(FloatProgress(value=0.0, max=115730790.0), HTML(value='')))"
            ]
          },
          "metadata": {
            "tags": []
          }
        },
        {
          "output_type": "stream",
          "text": [
            "\n"
          ],
          "name": "stdout"
        }
      ]
    },
    {
      "cell_type": "markdown",
      "metadata": {
        "id": "NjPGaRjImKK3"
      },
      "source": [
        "__Question 5:__ Outline the steps you took to get to your final CNN architecture and your reasoning at each step.  Describe why you think the architecture is suitable for the current problem."
      ]
    },
    {
      "cell_type": "markdown",
      "metadata": {
        "id": "3iiT2yN2mKK4"
      },
      "source": [
        "__Answer:__ \n",
        "\n",
        "It is very efficient to use pre-trained networks to solve challenging problems in computer vision.\n",
        "\n",
        "Once trained, these models work very well as feature detectors for images they weren't trained on. Here we'll use transfer learning to train a network that can classify our dog photos.\n",
        "\n",
        "For this task speciffically, I'll use resnet50 trained on ImageNet available from torchvision.\n",
        "\n",
        "The classifier part of the model is a single fully-connected layer:\n",
        "\n",
        "(fc): Linear(in_features=2048, out_features=1000, bias=True)\n",
        "\n",
        "This layer was trained on the ImageNet dataset, so it won't work for the dog classification specific problem.\n",
        "\n",
        "That means we need to replace the classifier (133 classes), but the features will work perfectly on their own.\n",
        "\n",
        "Choice of criterion: nn.CrossEntropyLoss() This criterion combines :func:nn.LogSoftmax and :func:nn.NLLLoss in one single class. It is useful when training a classification problem with C classes."
      ]
    },
    {
      "cell_type": "markdown",
      "metadata": {
        "id": "OtdHImtamKK5"
      },
      "source": [
        "### (IMPLEMENTATION) Specify Loss Function and Optimizer\n",
        "\n",
        "Use the next code cell to specify a [loss function](http://pytorch.org/docs/master/nn.html#loss-functions) and [optimizer](http://pytorch.org/docs/master/optim.html).  Save the chosen loss function as `criterion_transfer`, and the optimizer as `optimizer_transfer` below."
      ]
    },
    {
      "cell_type": "code",
      "metadata": {
        "id": "ZwkuCCfCmKK7"
      },
      "source": [
        "criterion_transfer = nn.CrossEntropyLoss()\n",
        "optimizer_transfer = optim.Adam(model_transfer.classifier.parameters(), lr=0.001)\n",
        "\n",
        "# Decay LR by a factor of 0.1 every 4 epochs\n",
        "scheduler_transfer = lr_scheduler.StepLR(optimizer_transfer, step_size = 3, gamma=0.1)"
      ],
      "execution_count": 26,
      "outputs": []
    },
    {
      "cell_type": "markdown",
      "metadata": {
        "id": "tuAgQRJjmKLC"
      },
      "source": [
        "### (IMPLEMENTATION) Train and Validate the Model\n",
        "\n",
        "Train and validate your model in the code cell below.  [Save the final model parameters](http://pytorch.org/docs/master/notes/serialization.html) at filepath `'model_transfer.pt'`."
      ]
    },
    {
      "cell_type": "code",
      "metadata": {
        "id": "CWfdVadPmKLE",
        "outputId": "d2237030-ddd7-4b5a-acf6-6c7927bca0ea",
        "colab": {
          "base_uri": "https://localhost:8080/",
          "height": 1000
        }
      },
      "source": [
        "all_losses = {'epoch': [],\n",
        "              'train': [],\n",
        "              'valid': [],\n",
        "              'test': []\n",
        "             }\n",
        "\n",
        "all_accuracies = {'epoch': [],\n",
        "                  'train': [],\n",
        "                  'valid': [],\n",
        "                  'test': []\n",
        "             }\n",
        "\n",
        "def print_current_time():\n",
        "  \n",
        "  hours, mins, secs = str(datetime.datetime.now().time())[:-8].split(':')\n",
        "  hours, mins, secs = int(hours), int(mins), int(secs)\n",
        "\n",
        "  if (mins+30)<60:\n",
        "    hours = hours+5 \n",
        "    mins=mins+30 \n",
        "  else:\n",
        "    hours = hours+6 \n",
        "    mins = (mins+30) - 60\n",
        "    \n",
        "  if hours>24:\n",
        "    hours = hours - 24\n",
        "    \n",
        "  print('Current time - {}:{}:{}'.format(hours, mins, secs)) \n",
        "\n",
        "\n",
        "# train the model\n",
        "\n",
        "# number of epochs to train the model\n",
        "n_epochs = 10\n",
        "\n",
        "model_transfer.cuda()\n",
        "valid_loss_min = np.Inf # track change in validation loss\n",
        "print_current_time()\n",
        "\n",
        "for epoch in range(1, n_epochs+1):    \n",
        "    all_losses['epoch'].append(epoch)\n",
        "    all_accuracies['epoch'].append(epoch)\n",
        "    start_time = time.time()\n",
        "    print('-'*11)\n",
        "    print('Epoch: {}'.format(epoch))\n",
        "\n",
        "    # keep track of training and validation loss\n",
        "    train_loss = 0.0\n",
        "    valid_loss = 0.0\n",
        "    train_running_corrects = 0\n",
        "    valid_running_corrects = 0\n",
        "    \n",
        "    ###################\n",
        "    # train the model #\n",
        "    ###################\n",
        "    model_transfer.train()\n",
        "    for inputs, target in dataloaders['train']:\n",
        "        # move tensors to GPU if CUDA is available\n",
        "        inputs, target = inputs.cuda(), target.cuda()\n",
        "        # clear the gradients of all optimized variables\n",
        "        optimizer_transfer.zero_grad()\n",
        "        # forward pass: compute predicted outputs by passing inputs to the model\n",
        "        outputs = model_transfer(inputs)\n",
        "        _, preds = torch.max(outputs, 1)\n",
        "        # calculate the batch loss\n",
        "        loss = criterion_transfer(outputs, target)\n",
        "        # backward pass: compute gradient of the loss with respect to model parameters\n",
        "        loss.backward()\n",
        "        # perform a single optimization step (parameter update)\n",
        "        optimizer_transfer.step()\n",
        "        # update training loss\n",
        "        train_loss += loss.item()*inputs.size(0)\n",
        "        train_running_corrects += torch.sum(preds == target.data)        \n",
        "        \n",
        "    ######################    \n",
        "    # validate the model #\n",
        "    ######################\n",
        "    model_transfer.eval()\n",
        "    for inputs, target in dataloaders['valid']:\n",
        "        # move tensors to GPU if CUDA is available\n",
        "        inputs, target = inputs.cuda(), target.cuda()\n",
        "        # forward pass: compute predicted outputs by passing inputs to the model\n",
        "        outputs = model_transfer(inputs)\n",
        "        _, preds = torch.max(outputs, 1)\n",
        "        # calculate the batch loss\n",
        "        loss = criterion_transfer(outputs, target)\n",
        "        # update average validation loss \n",
        "        valid_loss += loss.item()*inputs.size(0)\n",
        "        valid_running_corrects += torch.sum(preds == target.data)\n",
        "    \n",
        "    # calculate average losses and accuracies\n",
        "    train_loss = train_loss/len(dataloaders['train'].dataset)\n",
        "    all_losses['train'].append(train_loss)\n",
        "    valid_loss = valid_loss/len(dataloaders['valid'].dataset)\n",
        "    all_losses['valid'].append(valid_loss)\n",
        "    \n",
        "    train_acc = train_running_corrects.double()/len(dataloaders['train'].dataset)\n",
        "    all_accuracies['train'].append(train_acc)\n",
        "    valid_acc = valid_running_corrects.double()/len(dataloaders['valid'].dataset)\n",
        "    all_accuracies['valid'].append(valid_acc)\n",
        "    time_epoch = time.time() - start_time\n",
        "        \n",
        "    # print training/validation statistics \n",
        "    print('Training Loss: {:.6f} \\tValidation Loss: {:.6f}'.format(\n",
        "        train_loss, valid_loss))\n",
        "    print('Training Accuracy: {:.6f} \\tValidation Accuracy: {:.6f}'.format(\n",
        "        train_acc, valid_acc))\n",
        "    print_current_time()\n",
        "    print('Epoch Time: {:.0f}m {:.0f}s'.format(\n",
        "              time_epoch // 60, time_epoch % 60))\n",
        "    \n",
        "    # save model if validation loss has decreased\n",
        "    if valid_loss <= valid_loss_min:\n",
        "        print('Validation loss decreased ({:.6f} --> {:.6f}).  Saving model ...'.format(\n",
        "        valid_loss_min,\n",
        "        valid_loss))\n",
        "        torch.save(model_transfer.state_dict(), 'model_transfer.pth')\n",
        "        valid_loss_min = valid_loss       \n",
        "        \n",
        "    print()\n",
        "\n",
        "# load the model that got the best validation accuracy (uncomment the line below)\n",
        "model_transfer.load_state_dict(torch.load('model_transfer.pth'))"
      ],
      "execution_count": 33,
      "outputs": [
        {
          "output_type": "stream",
          "text": [
            "Current time - 21:16:5\n",
            "-----------\n",
            "Epoch: 1\n",
            "Training Loss: 2.799012 \tValidation Loss: 1.209081\n",
            "Training Accuracy: 0.349850 \tValidation Accuracy: 0.699401\n",
            "Current time - 21:21:2\n",
            "Epoch Time: 4m 29s\n",
            "Validation loss decreased (inf --> 1.209081).  Saving model ...\n",
            "\n",
            "-----------\n",
            "Epoch: 2\n",
            "Training Loss: 1.686626 \tValidation Loss: 0.790585\n",
            "Training Accuracy: 0.551198 \tValidation Accuracy: 0.767665\n",
            "Current time - 21:25:4\n",
            "Epoch Time: 4m 24s\n",
            "Validation loss decreased (1.209081 --> 0.790585).  Saving model ...\n",
            "\n",
            "-----------\n",
            "Epoch: 3\n",
            "Training Loss: 1.463156 \tValidation Loss: 0.666187\n",
            "Training Accuracy: 0.592665 \tValidation Accuracy: 0.792814\n",
            "Current time - 21:30:1\n",
            "Epoch Time: 4m 24s\n",
            "Validation loss decreased (0.790585 --> 0.666187).  Saving model ...\n",
            "\n",
            "-----------\n",
            "Epoch: 4\n",
            "Training Loss: 1.348559 \tValidation Loss: 0.555759\n",
            "Training Accuracy: 0.621856 \tValidation Accuracy: 0.833533\n",
            "Current time - 21:34:3\n",
            "Epoch Time: 4m 23s\n",
            "Validation loss decreased (0.666187 --> 0.555759).  Saving model ...\n",
            "\n",
            "-----------\n",
            "Epoch: 5\n",
            "Training Loss: 1.248553 \tValidation Loss: 0.549578\n",
            "Training Accuracy: 0.638473 \tValidation Accuracy: 0.831138\n",
            "Current time - 21:38:5\n",
            "Epoch Time: 4m 23s\n",
            "Validation loss decreased (0.555759 --> 0.549578).  Saving model ...\n",
            "\n",
            "-----------\n",
            "Epoch: 6\n",
            "Training Loss: 1.210530 \tValidation Loss: 0.498791\n",
            "Training Accuracy: 0.654940 \tValidation Accuracy: 0.844311\n",
            "Current time - 21:43:2\n",
            "Epoch Time: 4m 23s\n",
            "Validation loss decreased (0.549578 --> 0.498791).  Saving model ...\n",
            "\n",
            "-----------\n",
            "Epoch: 7\n",
            "Training Loss: 1.135280 \tValidation Loss: 0.479552\n",
            "Training Accuracy: 0.672904 \tValidation Accuracy: 0.845509\n",
            "Current time - 21:47:4\n",
            "Epoch Time: 4m 23s\n",
            "Validation loss decreased (0.498791 --> 0.479552).  Saving model ...\n",
            "\n",
            "-----------\n",
            "Epoch: 8\n",
            "Training Loss: 1.148708 \tValidation Loss: 0.465031\n",
            "Training Accuracy: 0.671707 \tValidation Accuracy: 0.862275\n",
            "Current time - 21:52:0\n",
            "Epoch Time: 4m 23s\n",
            "Validation loss decreased (0.479552 --> 0.465031).  Saving model ...\n",
            "\n",
            "-----------\n",
            "Epoch: 9\n",
            "Training Loss: 1.089020 \tValidation Loss: 0.444891\n",
            "Training Accuracy: 0.689671 \tValidation Accuracy: 0.861078\n",
            "Current time - 21:56:3\n",
            "Epoch Time: 4m 23s\n",
            "Validation loss decreased (0.465031 --> 0.444891).  Saving model ...\n",
            "\n",
            "-----------\n",
            "Epoch: 10\n",
            "Training Loss: 1.030070 \tValidation Loss: 0.442452\n",
            "Training Accuracy: 0.701647 \tValidation Accuracy: 0.863473\n",
            "Current time - 22:0:5\n",
            "Epoch Time: 4m 24s\n",
            "Validation loss decreased (0.444891 --> 0.442452).  Saving model ...\n",
            "\n"
          ],
          "name": "stdout"
        },
        {
          "output_type": "execute_result",
          "data": {
            "text/plain": [
              "<All keys matched successfully>"
            ]
          },
          "metadata": {
            "tags": []
          },
          "execution_count": 33
        }
      ]
    },
    {
      "cell_type": "markdown",
      "metadata": {
        "id": "fBJ1b8iFmKLN"
      },
      "source": [
        "### (IMPLEMENTATION) Test the Model\n",
        "\n",
        "Try out your model on the test dataset of dog images. Use the code cell below to calculate and print the test loss and accuracy.  Ensure that your test accuracy is greater than 60%."
      ]
    },
    {
      "cell_type": "code",
      "metadata": {
        "id": "lb8pzLpnmKLN",
        "outputId": "29cd32fb-5b75-443f-9ae1-7bc5400196bf",
        "colab": {
          "base_uri": "https://localhost:8080/",
          "height": 102
        }
      },
      "source": [
        "# test the model\n",
        "\n",
        "print_current_time()\n",
        "# keep track of training and validation loss\n",
        "test_loss = 0.0\n",
        "test_running_corrects = 0\n",
        "\n",
        "######################    \n",
        "# test the model #\n",
        "######################\n",
        "model_transfer.eval()\n",
        "for inputs, target in dataloaders['test']:\n",
        "    # move tensors to GPU if CUDA is available\n",
        "    inputs, target = inputs.cuda(), target.cuda()\n",
        "    # forward pass: compute predicted outputs by passing inputs to the model\n",
        "    outputs = model_transfer(inputs)\n",
        "    _, preds = torch.max(outputs, 1)\n",
        "    # calculate the batch loss\n",
        "    loss = criterion_transfer(outputs, target)\n",
        "    # update average validation loss \n",
        "    test_loss += loss.item()*inputs.size(0)\n",
        "    test_running_corrects += torch.sum(preds == target.data)\n",
        "\n",
        "# calculate average loss and accuracy\n",
        "test_loss = test_loss/len(dataloaders['test'].dataset)\n",
        "all_losses['test'].append(test_loss)\n",
        "\n",
        "test_acc = test_running_corrects.double()/len(dataloaders['test'].dataset)\n",
        "all_accuracies['test'].append(test_acc)\n",
        "time_epoch = time.time() - start_time\n",
        "\n",
        "# print training/validation statistics \n",
        "print('Test Loss: {:.6f}'.format(test_loss))\n",
        "print('Test Accuracy: {:.6f}'.format(test_acc*100))\n",
        "print_current_time()\n",
        "print('Epoch Time: {:.0f}m {:.0f}s'.format(\n",
        "          time_epoch // 60, time_epoch % 60))"
      ],
      "execution_count": 28,
      "outputs": [
        {
          "output_type": "stream",
          "text": [
            "Current time - 21:15:5\n",
            "Test Loss: 4.294938\n",
            "Test Accuracy: 17.822967\n",
            "Current time - 21:16:0\n",
            "Epoch Time: 1m 20s\n"
          ],
          "name": "stdout"
        }
      ]
    },
    {
      "cell_type": "markdown",
      "metadata": {
        "id": "oqIBwFJcmKLT"
      },
      "source": [
        "### (IMPLEMENTATION) Predict Dog Breed with the Model\n",
        "\n",
        "Write a function that takes an image path as input and returns the dog breed (`Affenpinscher`, `Afghan hound`, etc) that is predicted by your model.  "
      ]
    },
    {
      "cell_type": "code",
      "metadata": {
        "id": "9jaIrq-bmKLT"
      },
      "source": [
        "### Write a function that takes a path to an image as input\n",
        "### and returns the dog breed that is predicted by the model.\n",
        "\n",
        "# list of class names by index, i.e. a name can be accessed like class_names[0]\n",
        "class_names = [item[4:].replace(\"_\", \" \") for item in class_names]\n",
        "\n",
        "def predict_breed_transfer(img_path):\n",
        "    # load the image and return the predicted breed\n",
        "    # Process image\n",
        "    img = process_image(img_path) \n",
        "    img = torch.from_numpy(img).type(torch.FloatTensor) \n",
        "    img.unsqueeze_(0)\n",
        "    img = img.cuda()\n",
        "\n",
        "    # Predict top label\n",
        "    probs = torch.exp(model_transfer.forward(img)) \n",
        "    top_prob, top_lab = probs.topk(1)     \n",
        "    return class_names[int(top_lab)]"
      ],
      "execution_count": 29,
      "outputs": []
    },
    {
      "cell_type": "markdown",
      "metadata": {
        "id": "uRYoE-DqmKLZ"
      },
      "source": [
        "---\n",
        "<a id='step5'></a>\n",
        "## Step 5: Write your Algorithm\n",
        "\n",
        "Write an algorithm that accepts a file path to an image and first determines whether the image contains a human, dog, or neither.  Then,\n",
        "- if a __dog__ is detected in the image, return the predicted breed.\n",
        "- if a __human__ is detected in the image, return the resembling dog breed.\n",
        "- if __neither__ is detected in the image, provide output that indicates an error.\n",
        "\n",
        "You are welcome to write your own functions for detecting humans and dogs in images, but feel free to use the `face_detector` and `dog_detector` functions developed above.  You are __required__ to use your CNN from Step 4 to predict dog breed.  \n",
        "\n",
        "Some sample output for our algorithm is provided below, but feel free to design your own user experience!\n",
        "\n",
        "![Sample Human Output](images/sample_human_output.png)\n",
        "\n",
        "\n",
        "### (IMPLEMENTATION) Write your Algorithm"
      ]
    },
    {
      "cell_type": "code",
      "metadata": {
        "id": "jVKxtB6HmKLa"
      },
      "source": [
        "### Write your algorithm.\n",
        "### Feel free to use as many code cells as needed.\n",
        "\n",
        "def run_app(img_path):\n",
        "    ## handle cases for a human face, dog, and neither\n",
        "    if face_detector(img_path):\n",
        "      return predict_breed_transfer(img_path)\n",
        "    \n",
        "    elif dog_detector(img_path):\n",
        "      return predict_breed_transfer(img_path)\n",
        "    \n",
        "    else:\n",
        "      return 'Error'\n"
      ],
      "execution_count": 30,
      "outputs": []
    },
    {
      "cell_type": "markdown",
      "metadata": {
        "id": "fL_nFlXcmKLd"
      },
      "source": [
        "---\n",
        "<a id='step6'></a>\n",
        "## Step 6: Test Your Algorithm\n",
        "\n",
        "In this section, you will take your new algorithm for a spin!  What kind of dog does the algorithm think that _you_ look like?  If you have a dog, does it predict your dog's breed accurately?  If you have a cat, does it mistakenly think that your cat is a dog?\n",
        "\n",
        "### (IMPLEMENTATION) Test Your Algorithm on Sample Images!\n",
        "\n",
        "Test your algorithm at least six images on your computer.  Feel free to use any images you like.  Use at least two human and two dog images.  \n",
        "\n",
        "__Question 6:__ Is the output better than you expected :) ?  Or worse :( ?  Provide at least three possible points of improvement for your algorithm."
      ]
    },
    {
      "cell_type": "markdown",
      "metadata": {
        "id": "AOnALhVFmKLe"
      },
      "source": [
        "__Answer:__ \n",
        "\n",
        "Some improvements:\n",
        "\n",
        "Fine tune the model to give a better accuracy\n",
        "Return the top N predicted classes and their probabilities, not just one class\n",
        "Serve this function as an API (Flask, AWS, etc.)\n",
        "Handle better the case when there are multiple dogs/humans or dogs and humans in an image\n",
        "Benckmark different models, opimizers and loss functions, as well as different input image sizes.\n",
        "Clean up code and make it more modular"
      ]
    },
    {
      "cell_type": "code",
      "metadata": {
        "id": "iLoemv0NmKLf"
      },
      "source": [
        ""
      ],
      "execution_count": 30,
      "outputs": []
    },
    {
      "cell_type": "code",
      "metadata": {
        "id": "8xIGzJgao94H",
        "outputId": "dfde0d57-7aa7-4658-b70e-b419829b580e",
        "colab": {
          "base_uri": "https://localhost:8080/",
          "height": 598
        }
      },
      "source": [
        "# download images\n",
        "!wget https://upload.wikimedia.org/wikipedia/commons/a/ae/Alia_Bhatt_2016.jpg -O alia.jpg\n",
        "!wget https://cdn0.wideopenpets.com/wp-content/uploads/2018/03/Akita-770x405.jpg -O dog.jpg\n",
        "!wget https://i1.wp.com/4f7bg01yl3z03jojs41hgo8k-wpengine.netdna-ssl.com/wp-content/uploads/2016/10/HF160920_Global_Blog_All_About_Apples_15_low.jpg?ssl=1 -O apple.jpg"
      ],
      "execution_count": 31,
      "outputs": [
        {
          "output_type": "stream",
          "text": [
            "--2020-09-26 15:46:22--  https://upload.wikimedia.org/wikipedia/commons/a/ae/Alia_Bhatt_2016.jpg\n",
            "Resolving upload.wikimedia.org (upload.wikimedia.org)... 198.35.26.112, 2620:0:863:ed1a::2:b\n",
            "Connecting to upload.wikimedia.org (upload.wikimedia.org)|198.35.26.112|:443... connected.\n",
            "HTTP request sent, awaiting response... 200 OK\n",
            "Length: 153625 (150K) [image/jpeg]\n",
            "Saving to: ‘alia.jpg’\n",
            "\n",
            "alia.jpg            100%[===================>] 150.02K  --.-KB/s    in 0.06s   \n",
            "\n",
            "2020-09-26 15:46:23 (2.28 MB/s) - ‘alia.jpg’ saved [153625/153625]\n",
            "\n",
            "--2020-09-26 15:46:23--  https://cdn0.wideopenpets.com/wp-content/uploads/2018/03/Akita-770x405.jpg\n",
            "Resolving cdn0.wideopenpets.com (cdn0.wideopenpets.com)... 104.26.3.63, 104.26.2.63, 172.67.74.173, ...\n",
            "Connecting to cdn0.wideopenpets.com (cdn0.wideopenpets.com)|104.26.3.63|:443... connected.\n",
            "HTTP request sent, awaiting response... 200 OK\n",
            "Length: 37648 (37K) [image/jpeg]\n",
            "Saving to: ‘dog.jpg’\n",
            "\n",
            "dog.jpg             100%[===================>]  36.77K  --.-KB/s    in 0s      \n",
            "\n",
            "2020-09-26 15:46:23 (146 MB/s) - ‘dog.jpg’ saved [37648/37648]\n",
            "\n",
            "--2020-09-26 15:46:23--  https://i1.wp.com/4f7bg01yl3z03jojs41hgo8k-wpengine.netdna-ssl.com/wp-content/uploads/2016/10/HF160920_Global_Blog_All_About_Apples_15_low.jpg?ssl=1\n",
            "Resolving i1.wp.com (i1.wp.com)... 192.0.77.2\n",
            "Connecting to i1.wp.com (i1.wp.com)|192.0.77.2|:443... connected.\n",
            "HTTP request sent, awaiting response... 200 OK\n",
            "Length: 1043569 (1019K) [image/jpeg]\n",
            "Saving to: ‘apple.jpg’\n",
            "\n",
            "apple.jpg           100%[===================>]   1019K  6.40MB/s    in 0.2s    \n",
            "\n",
            "2020-09-26 15:46:23 (6.40 MB/s) - ‘apple.jpg’ saved [1043569/1043569]\n",
            "\n"
          ],
          "name": "stdout"
        }
      ]
    },
    {
      "cell_type": "code",
      "metadata": {
        "id": "b4F3uiepo-3W",
        "outputId": "eaa97dd9-c0e9-49ba-a96b-59e3f4c073b7",
        "colab": {
          "base_uri": "https://localhost:8080/",
          "height": 170
        }
      },
      "source": [
        "## Execute your algorithm from Step 6 on\n",
        "## at least 6 images.\n",
        "## Feel free to use as many code cells as needed.\n",
        "\n",
        "## suggested code, below\n",
        "# 3 human and three dog images\n",
        "for file in np.hstack((human_files[:3], dog_files[:3])):\n",
        "    print(run_app(file))\n",
        "\n",
        "# 1 human, dog, neither human nor dog    \n",
        "print(run_app('alia.jpg'))\n",
        "print(run_app('dog.jpg'))\n",
        "print(run_app('apple.jpg'))"
      ],
      "execution_count": 32,
      "outputs": [
        {
          "output_type": "stream",
          "text": [
            "Dalmatian\n",
            "Dalmatian\n",
            "Dalmatian\n",
            "Nova scotia duck tolling retriever\n",
            "Italian greyhound\n",
            "Nova scotia duck tolling retriever\n",
            "Dalmatian\n",
            "Dalmatian\n",
            "Error\n"
          ],
          "name": "stdout"
        }
      ]
    },
    {
      "cell_type": "code",
      "metadata": {
        "id": "KLwF_5N1rNqc"
      },
      "source": [
        ""
      ],
      "execution_count": 32,
      "outputs": []
    }
  ]
}